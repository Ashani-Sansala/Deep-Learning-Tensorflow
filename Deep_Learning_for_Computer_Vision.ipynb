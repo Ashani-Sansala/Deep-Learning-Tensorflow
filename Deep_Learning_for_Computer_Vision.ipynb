{
  "nbformat": 4,
  "nbformat_minor": 0,
  "metadata": {
    "colab": {
      "provenance": [],
      "authorship_tag": "ABX9TyOwq67PHhe16WhkFF0PnLzU",
      "include_colab_link": true
    },
    "kernelspec": {
      "name": "python3",
      "display_name": "Python 3"
    },
    "language_info": {
      "name": "python"
    }
  },
  "cells": [
    {
      "cell_type": "markdown",
      "metadata": {
        "id": "view-in-github",
        "colab_type": "text"
      },
      "source": [
        "<a href=\"https://colab.research.google.com/github/Ashani-Sansala/Deep-Learning-Tensorflow/blob/main/Deep_Learning_for_Computer_Vision.ipynb\" target=\"_parent\"><img src=\"https://colab.research.google.com/assets/colab-badge.svg\" alt=\"Open In Colab\"/></a>"
      ]
    },
    {
      "cell_type": "code",
      "execution_count": 1,
      "metadata": {
        "id": "61BHbaMn074J"
      },
      "outputs": [],
      "source": [
        "import tensorflow as tf\n",
        "import numpy as np"
      ]
    },
    {
      "cell_type": "code",
      "source": [
        "tensor_zero_d = tf.constant(4)\n",
        "print(tensor_zero_d)"
      ],
      "metadata": {
        "colab": {
          "base_uri": "https://localhost:8080/"
        },
        "id": "NYkSp2lo1n2y",
        "outputId": "ab445b3f-1b36-4dc5-b9c5-2a1c16081d38"
      },
      "execution_count": 2,
      "outputs": [
        {
          "output_type": "stream",
          "name": "stdout",
          "text": [
            "tf.Tensor(4, shape=(), dtype=int32)\n"
          ]
        }
      ]
    },
    {
      "cell_type": "code",
      "source": [
        "tensor_one_d = tf.constant([2,0,30,-1, 1.0], dtype=tf.float16)\n",
        "print(tensor_one_d)"
      ],
      "metadata": {
        "colab": {
          "base_uri": "https://localhost:8080/"
        },
        "id": "gmJwcOIg7qfo",
        "outputId": "adb0b320-86a2-4197-ed46-482b3cfa7f28"
      },
      "execution_count": 3,
      "outputs": [
        {
          "output_type": "stream",
          "name": "stdout",
          "text": [
            "tf.Tensor([ 2.  0. 30. -1.  1.], shape=(5,), dtype=float16)\n"
          ]
        }
      ]
    },
    {
      "cell_type": "code",
      "source": [
        "tensor_two_d = tf.constant([\n",
        "    [1,2,0],\n",
        "    [2,5,8],\n",
        "    [-1,-9,10],\n",
        "    [2,4,8]\n",
        "])\n",
        "print(tensor_two_d)"
      ],
      "metadata": {
        "colab": {
          "base_uri": "https://localhost:8080/"
        },
        "id": "iiUckKA770CE",
        "outputId": "d729f11d-3e00-4bdb-eff4-e61274400e4e"
      },
      "execution_count": 4,
      "outputs": [
        {
          "output_type": "stream",
          "name": "stdout",
          "text": [
            "tf.Tensor(\n",
            "[[ 1  2  0]\n",
            " [ 2  5  8]\n",
            " [-1 -9 10]\n",
            " [ 2  4  8]], shape=(4, 3), dtype=int32)\n"
          ]
        }
      ]
    },
    {
      "cell_type": "code",
      "source": [
        "tensor_three_d = tf.constant([\n",
        "    [[1,2,0], \n",
        "     [2,5,8],\n",
        "     [-1,-9,10],\n",
        "     [2,4,8]],\n",
        "\n",
        "     [[1,-2,0], \n",
        "     [2,3,8],\n",
        "     [-1,1,10],\n",
        "     [10,3,8]],\n",
        "\n",
        "     [[1,0,0], \n",
        "     [1,5,4],\n",
        "     [-1,9,10],\n",
        "     [0,4,8]]\n",
        "\n",
        "])\n",
        "print(tensor_three_d)"
      ],
      "metadata": {
        "colab": {
          "base_uri": "https://localhost:8080/"
        },
        "id": "ihsmB4v2-JeU",
        "outputId": "a9c09259-bc8d-4029-ab4f-711a1fbf7e88"
      },
      "execution_count": 5,
      "outputs": [
        {
          "output_type": "stream",
          "name": "stdout",
          "text": [
            "tf.Tensor(\n",
            "[[[ 1  2  0]\n",
            "  [ 2  5  8]\n",
            "  [-1 -9 10]\n",
            "  [ 2  4  8]]\n",
            "\n",
            " [[ 1 -2  0]\n",
            "  [ 2  3  8]\n",
            "  [-1  1 10]\n",
            "  [10  3  8]]\n",
            "\n",
            " [[ 1  0  0]\n",
            "  [ 1  5  4]\n",
            "  [-1  9 10]\n",
            "  [ 0  4  8]]], shape=(3, 4, 3), dtype=int32)\n"
          ]
        }
      ]
    },
    {
      "cell_type": "code",
      "source": [
        "tensor_four_d = tf.constant([\n",
        "    [[[1,2,0], \n",
        "     [2,5,8],\n",
        "     [-1,-9,10],\n",
        "     [2,4,8]],\n",
        "\n",
        "     [[1,-2,0], \n",
        "     [2,3,8],\n",
        "     [-1,1,10],\n",
        "     [10,3,8]],\n",
        "\n",
        "     [[1,0,0], \n",
        "     [1,5,4],\n",
        "     [-1,9,10],\n",
        "     [0,4,8]]\n",
        "    ],\n",
        "\n",
        "    [[[1,2,0], \n",
        "     [2,5,8],\n",
        "     [-1,-9,10],\n",
        "     [2,4,8]],\n",
        "\n",
        "     [[1,-2,0], \n",
        "     [2,3,8],\n",
        "     [-1,1,10],\n",
        "     [10,3,8]],\n",
        "\n",
        "     [[1,0,0], \n",
        "     [1,5,4],\n",
        "     [-1,9,10],\n",
        "     [0,4,8]]\n",
        "],\n",
        "\n",
        "[[[1,2,0], \n",
        "     [2,5,8],\n",
        "     [-1,-9,10],\n",
        "     [2,4,8]],\n",
        "\n",
        "     [[1,-2,0], \n",
        "     [2,3,8],\n",
        "     [-1,1,10],\n",
        "     [10,3,8]],\n",
        "\n",
        "     [[1,0,0], \n",
        "     [1,5,4],\n",
        "     [-1,9,10],\n",
        "     [0,4,8]]\n",
        "]\n",
        "])\n",
        "\n",
        "print(tensor_four_d)"
      ],
      "metadata": {
        "colab": {
          "base_uri": "https://localhost:8080/"
        },
        "id": "yCWbCFDa-oYc",
        "outputId": "5ca99b57-4cec-41b6-fc1c-4eb8abf60021"
      },
      "execution_count": 6,
      "outputs": [
        {
          "output_type": "stream",
          "name": "stdout",
          "text": [
            "tf.Tensor(\n",
            "[[[[ 1  2  0]\n",
            "   [ 2  5  8]\n",
            "   [-1 -9 10]\n",
            "   [ 2  4  8]]\n",
            "\n",
            "  [[ 1 -2  0]\n",
            "   [ 2  3  8]\n",
            "   [-1  1 10]\n",
            "   [10  3  8]]\n",
            "\n",
            "  [[ 1  0  0]\n",
            "   [ 1  5  4]\n",
            "   [-1  9 10]\n",
            "   [ 0  4  8]]]\n",
            "\n",
            "\n",
            " [[[ 1  2  0]\n",
            "   [ 2  5  8]\n",
            "   [-1 -9 10]\n",
            "   [ 2  4  8]]\n",
            "\n",
            "  [[ 1 -2  0]\n",
            "   [ 2  3  8]\n",
            "   [-1  1 10]\n",
            "   [10  3  8]]\n",
            "\n",
            "  [[ 1  0  0]\n",
            "   [ 1  5  4]\n",
            "   [-1  9 10]\n",
            "   [ 0  4  8]]]\n",
            "\n",
            "\n",
            " [[[ 1  2  0]\n",
            "   [ 2  5  8]\n",
            "   [-1 -9 10]\n",
            "   [ 2  4  8]]\n",
            "\n",
            "  [[ 1 -2  0]\n",
            "   [ 2  3  8]\n",
            "   [-1  1 10]\n",
            "   [10  3  8]]\n",
            "\n",
            "  [[ 1  0  0]\n",
            "   [ 1  5  4]\n",
            "   [-1  9 10]\n",
            "   [ 0  4  8]]]], shape=(3, 3, 4, 3), dtype=int32)\n"
          ]
        }
      ]
    },
    {
      "cell_type": "code",
      "source": [
        "tensor_bool = tf.constant([True, False, True, True])\n",
        "print(tensor_bool)"
      ],
      "metadata": {
        "colab": {
          "base_uri": "https://localhost:8080/"
        },
        "id": "ZrDeucx2Az6f",
        "outputId": "b2f82d76-3b1e-44d1-c300-047abc1df416"
      },
      "execution_count": 7,
      "outputs": [
        {
          "output_type": "stream",
          "name": "stdout",
          "text": [
            "tf.Tensor([ True False  True  True], shape=(4,), dtype=bool)\n"
          ]
        }
      ]
    },
    {
      "cell_type": "code",
      "source": [
        "tensor_string = tf.constant([\"Hello\", \"Hi\", \"Bye\"])\n",
        "print(tensor_string)"
      ],
      "metadata": {
        "colab": {
          "base_uri": "https://localhost:8080/"
        },
        "id": "y2I8aERcEEgl",
        "outputId": "8db4fc91-ef7e-4efc-bc27-c0d5e080f38f"
      },
      "execution_count": 8,
      "outputs": [
        {
          "output_type": "stream",
          "name": "stdout",
          "text": [
            "tf.Tensor([b'Hello' b'Hi' b'Bye'], shape=(3,), dtype=string)\n"
          ]
        }
      ]
    },
    {
      "cell_type": "code",
      "source": [
        "np_array = np.array([2,6,10])\n",
        "print(np_array)"
      ],
      "metadata": {
        "colab": {
          "base_uri": "https://localhost:8080/"
        },
        "id": "8VSwIdfiEQT0",
        "outputId": "8d4ad22c-e49e-473c-fd04-5ed74d91f8d7"
      },
      "execution_count": 9,
      "outputs": [
        {
          "output_type": "stream",
          "name": "stdout",
          "text": [
            "[ 2  6 10]\n"
          ]
        }
      ]
    },
    {
      "cell_type": "code",
      "source": [
        "converted_tensor = tf.convert_to_tensor(np_array)\n",
        "print(converted_tensor)"
      ],
      "metadata": {
        "colab": {
          "base_uri": "https://localhost:8080/"
        },
        "id": "PIDdhkilEl3n",
        "outputId": "c681d89a-759b-4f4b-b53e-21eb088d2532"
      },
      "execution_count": 10,
      "outputs": [
        {
          "output_type": "stream",
          "name": "stdout",
          "text": [
            "tf.Tensor([ 2  6 10], shape=(3,), dtype=int64)\n"
          ]
        }
      ]
    },
    {
      "cell_type": "code",
      "source": [
        "eye_tensor = tf.eye(\n",
        "    num_rows=3,\n",
        "    num_columns=None,\n",
        "    batch_shape=None,\n",
        "    dtype=tf.dtypes.float32,\n",
        "    name=None\n",
        ")\n",
        "\n",
        "print(eye_tensor) #identity matrix"
      ],
      "metadata": {
        "colab": {
          "base_uri": "https://localhost:8080/"
        },
        "id": "r2i7Z1x0E-FS",
        "outputId": "b5d62a20-840c-4c54-f146-041f924a2712"
      },
      "execution_count": 11,
      "outputs": [
        {
          "output_type": "stream",
          "name": "stdout",
          "text": [
            "tf.Tensor(\n",
            "[[1. 0. 0.]\n",
            " [0. 1. 0.]\n",
            " [0. 0. 1.]], shape=(3, 3), dtype=float32)\n"
          ]
        }
      ]
    },
    {
      "cell_type": "code",
      "source": [
        "print(3*eye_tensor)"
      ],
      "metadata": {
        "colab": {
          "base_uri": "https://localhost:8080/"
        },
        "id": "t_eibchOFjHt",
        "outputId": "91eda0ce-8647-4781-c43d-ec30be0a4adf"
      },
      "execution_count": 12,
      "outputs": [
        {
          "output_type": "stream",
          "name": "stdout",
          "text": [
            "tf.Tensor(\n",
            "[[3. 0. 0.]\n",
            " [0. 3. 0.]\n",
            " [0. 0. 3.]], shape=(3, 3), dtype=float32)\n"
          ]
        }
      ]
    },
    {
      "cell_type": "code",
      "source": [
        "eye_tensor1 = tf.eye(\n",
        "    num_rows=5,\n",
        "    num_columns=None,\n",
        "    batch_shape=[2,],\n",
        "    dtype=tf.dtypes.float32,\n",
        "    name=None\n",
        ")\n",
        "\n",
        "print(eye_tensor1)"
      ],
      "metadata": {
        "colab": {
          "base_uri": "https://localhost:8080/"
        },
        "id": "OXzpdVcsF91o",
        "outputId": "7e2cddbb-85fe-4d62-ba13-846a7fc817b4"
      },
      "execution_count": 13,
      "outputs": [
        {
          "output_type": "stream",
          "name": "stdout",
          "text": [
            "tf.Tensor(\n",
            "[[[1. 0. 0. 0. 0.]\n",
            "  [0. 1. 0. 0. 0.]\n",
            "  [0. 0. 1. 0. 0.]\n",
            "  [0. 0. 0. 1. 0.]\n",
            "  [0. 0. 0. 0. 1.]]\n",
            "\n",
            " [[1. 0. 0. 0. 0.]\n",
            "  [0. 1. 0. 0. 0.]\n",
            "  [0. 0. 1. 0. 0.]\n",
            "  [0. 0. 0. 1. 0.]\n",
            "  [0. 0. 0. 0. 1.]]], shape=(2, 5, 5), dtype=float32)\n"
          ]
        }
      ]
    },
    {
      "cell_type": "code",
      "source": [
        "fill_tensor = tf.fill(\n",
        "    [1,3,4],5, name=None\n",
        ")\n",
        "\n",
        "print(fill_tensor)"
      ],
      "metadata": {
        "colab": {
          "base_uri": "https://localhost:8080/"
        },
        "id": "TjLKShuDGqMX",
        "outputId": "6395b517-6a2c-4039-f63a-06f93f4ce551"
      },
      "execution_count": 14,
      "outputs": [
        {
          "output_type": "stream",
          "name": "stdout",
          "text": [
            "tf.Tensor(\n",
            "[[[5 5 5 5]\n",
            "  [5 5 5 5]\n",
            "  [5 5 5 5]]], shape=(1, 3, 4), dtype=int32)\n"
          ]
        }
      ]
    },
    {
      "cell_type": "code",
      "source": [
        "ones_tensor = tf.ones(\n",
        "    [5,3],\n",
        "    dtype=tf.dtypes.int32,\n",
        "    name=None\n",
        ")\n",
        "\n",
        "print(ones_tensor)"
      ],
      "metadata": {
        "colab": {
          "base_uri": "https://localhost:8080/"
        },
        "id": "i4ZGJLwAIVwa",
        "outputId": "e7311a77-8d5a-40d6-9e25-bec9ef41130a"
      },
      "execution_count": 15,
      "outputs": [
        {
          "output_type": "stream",
          "name": "stdout",
          "text": [
            "tf.Tensor(\n",
            "[[1 1 1]\n",
            " [1 1 1]\n",
            " [1 1 1]\n",
            " [1 1 1]\n",
            " [1 1 1]], shape=(5, 3), dtype=int32)\n"
          ]
        }
      ]
    },
    {
      "cell_type": "code",
      "source": [
        "ones_like_tensor = tf.ones_like(fill_tensor)\n",
        "\n",
        "print(ones_like_tensor)"
      ],
      "metadata": {
        "colab": {
          "base_uri": "https://localhost:8080/"
        },
        "id": "vT7niJgQJCQF",
        "outputId": "301f036a-f90d-4a39-8a94-cb1e362058fc"
      },
      "execution_count": 16,
      "outputs": [
        {
          "output_type": "stream",
          "name": "stdout",
          "text": [
            "tf.Tensor(\n",
            "[[[1 1 1 1]\n",
            "  [1 1 1 1]\n",
            "  [1 1 1 1]]], shape=(1, 3, 4), dtype=int32)\n"
          ]
        }
      ]
    },
    {
      "cell_type": "code",
      "source": [
        "zeros_tensor = tf.zeros(\n",
        "    shape = [2,3],\n",
        "    dtype=tf.dtypes.float32,\n",
        "    name=None\n",
        ")\n",
        "\n",
        "print(zeros_tensor)"
      ],
      "metadata": {
        "colab": {
          "base_uri": "https://localhost:8080/"
        },
        "id": "4nVq-aCTKzeX",
        "outputId": "2d31db9b-89eb-47ac-ca3c-6fab57fdd80f"
      },
      "execution_count": 17,
      "outputs": [
        {
          "output_type": "stream",
          "name": "stdout",
          "text": [
            "tf.Tensor(\n",
            "[[0. 0. 0.]\n",
            " [0. 0. 0.]], shape=(2, 3), dtype=float32)\n"
          ]
        }
      ]
    },
    {
      "cell_type": "code",
      "source": [
        "random_tensor = tf.random.normal(\n",
        "    [3,2],\n",
        "    mean=0.0, #Mean value of the normal distribution\n",
        "    stddev=1.0,\n",
        "    dtype=tf.dtypes.float32,\n",
        "    seed=None,\n",
        "    name=None\n",
        ")\n",
        "\n",
        "print(random_tensor)"
      ],
      "metadata": {
        "colab": {
          "base_uri": "https://localhost:8080/"
        },
        "id": "YIgPBK7ALcAl",
        "outputId": "5436e373-752a-4991-89e6-6e0c23e749a0"
      },
      "execution_count": 18,
      "outputs": [
        {
          "output_type": "stream",
          "name": "stdout",
          "text": [
            "tf.Tensor(\n",
            "[[ 9.0306037e-04  4.6425256e-01]\n",
            " [-2.4985459e-01  5.1196909e-01]\n",
            " [ 5.9566760e-01  1.5111424e+00]], shape=(3, 2), dtype=float32)\n"
          ]
        }
      ]
    },
    {
      "cell_type": "code",
      "source": [
        "uniform_random_tensor = tf.random.uniform(\n",
        "    [2,3],\n",
        "    minval=0,\n",
        "    maxval=100,\n",
        "    dtype=tf.dtypes.float32,\n",
        "    seed=5,\n",
        "    name=None\n",
        ")\n",
        "\n",
        "print(uniform_random_tensor)"
      ],
      "metadata": {
        "colab": {
          "base_uri": "https://localhost:8080/"
        },
        "id": "R4bMeKpZi2IM",
        "outputId": "34542042-8108-45b0-a140-44647e824707"
      },
      "execution_count": 19,
      "outputs": [
        {
          "output_type": "stream",
          "name": "stdout",
          "text": [
            "tf.Tensor(\n",
            "[[38.831127 66.36828  19.191074]\n",
            " [70.60526  96.318344 32.628323]], shape=(2, 3), dtype=float32)\n"
          ]
        }
      ]
    },
    {
      "cell_type": "code",
      "source": [
        "tensor_seed = tf.random.set_seed(\n",
        "    10\n",
        ")\n",
        "\n",
        "print(tf.random.uniform([2,],maxval=100, dtype=tf.dtypes.float32,seed=5))\n",
        "print(tf.random.uniform([2,],maxval=100, dtype=tf.dtypes.float32,seed=5))\n",
        "print(tf.random.uniform([2,],maxval=100, dtype=tf.dtypes.float32,seed=5))\n",
        "print(tf.random.uniform([2,],maxval=100, dtype=tf.dtypes.float32,seed=5))"
      ],
      "metadata": {
        "colab": {
          "base_uri": "https://localhost:8080/"
        },
        "id": "pV7-rzcaoCt4",
        "outputId": "3c745357-d545-4178-eb71-a8da87ac88f6"
      },
      "execution_count": 20,
      "outputs": [
        {
          "output_type": "stream",
          "name": "stdout",
          "text": [
            "tf.Tensor([98.94415  36.855625], shape=(2,), dtype=float32)\n",
            "tf.Tensor([25.170158   3.6970735], shape=(2,), dtype=float32)\n",
            "tf.Tensor([23.782969 68.802086], shape=(2,), dtype=float32)\n",
            "tf.Tensor([94.44143  95.781235], shape=(2,), dtype=float32)\n"
          ]
        }
      ]
    },
    {
      "cell_type": "code",
      "source": [
        "#########    Indexing  #############"
      ],
      "metadata": {
        "id": "-rcoEOPFsPA5"
      },
      "execution_count": 21,
      "outputs": []
    },
    {
      "cell_type": "code",
      "source": [
        "tensor_indexd = tf.constant([1,10,-3,5,27])\n",
        "\n",
        "print(tensor_indexd)\n",
        "print(tensor_indexd[0])\n",
        "print(tensor_indexd[1])"
      ],
      "metadata": {
        "colab": {
          "base_uri": "https://localhost:8080/"
        },
        "id": "Fsd7S2P_tcia",
        "outputId": "bd68ca10-1f7a-407e-f6b0-e2e1f7593f18"
      },
      "execution_count": 22,
      "outputs": [
        {
          "output_type": "stream",
          "name": "stdout",
          "text": [
            "tf.Tensor([ 1 10 -3  5 27], shape=(5,), dtype=int32)\n",
            "tf.Tensor(1, shape=(), dtype=int32)\n",
            "tf.Tensor(10, shape=(), dtype=int32)\n"
          ]
        }
      ]
    },
    {
      "cell_type": "code",
      "source": [
        "print(tensor_indexd[1:3])\n",
        "print(tensor_indexd[1])"
      ],
      "metadata": {
        "colab": {
          "base_uri": "https://localhost:8080/"
        },
        "id": "3I74msPvtuem",
        "outputId": "54dfdbc7-d968-4ec1-b01d-aed1cfe83536"
      },
      "execution_count": 23,
      "outputs": [
        {
          "output_type": "stream",
          "name": "stdout",
          "text": [
            "tf.Tensor([10 -3], shape=(2,), dtype=int32)\n",
            "tf.Tensor(10, shape=(), dtype=int32)\n"
          ]
        }
      ]
    },
    {
      "cell_type": "code",
      "source": [
        "tf.range(1,6)"
      ],
      "metadata": {
        "colab": {
          "base_uri": "https://localhost:8080/"
        },
        "id": "nK3YTtqKoAQA",
        "outputId": "1866e05f-4ad9-4e96-9f3a-a78b28e41de8"
      },
      "execution_count": 24,
      "outputs": [
        {
          "output_type": "execute_result",
          "data": {
            "text/plain": [
              "<tf.Tensor: shape=(5,), dtype=int32, numpy=array([1, 2, 3, 4, 5], dtype=int32)>"
            ]
          },
          "metadata": {},
          "execution_count": 24
        }
      ]
    },
    {
      "cell_type": "code",
      "source": [
        "tensor_two_d = tf.constant([\n",
        "    [1,2,0],\n",
        "    [2,5,8],\n",
        "    [-1,-9,10],\n",
        "    [2,4,8]\n",
        "])\n",
        "# print(tensor_two_d[row range, column range])\n",
        "print(tensor_two_d[0:3, 0:2])"
      ],
      "metadata": {
        "colab": {
          "base_uri": "https://localhost:8080/"
        },
        "id": "s1ZbaXBeoLGD",
        "outputId": "0f99b2b5-19bb-4416-9590-08b1dd9db814"
      },
      "execution_count": 25,
      "outputs": [
        {
          "output_type": "stream",
          "name": "stdout",
          "text": [
            "tf.Tensor(\n",
            "[[ 1  2]\n",
            " [ 2  5]\n",
            " [-1 -9]], shape=(3, 2), dtype=int32)\n"
          ]
        }
      ]
    },
    {
      "cell_type": "code",
      "source": [
        "print(tensor_two_d[2, 1:])"
      ],
      "metadata": {
        "colab": {
          "base_uri": "https://localhost:8080/"
        },
        "id": "wV3sbhnlwfPx",
        "outputId": "a0c0f32e-dd2b-4cdf-d26d-7ae7ebb4c4fb"
      },
      "execution_count": 26,
      "outputs": [
        {
          "output_type": "stream",
          "name": "stdout",
          "text": [
            "tf.Tensor([-9 10], shape=(2,), dtype=int32)\n"
          ]
        }
      ]
    },
    {
      "cell_type": "code",
      "source": [
        "print(tensor_two_d[:, 0])"
      ],
      "metadata": {
        "colab": {
          "base_uri": "https://localhost:8080/"
        },
        "id": "4e2tpq8Wwic8",
        "outputId": "77766b1d-6ec3-4fff-e9e5-9d7918c905a6"
      },
      "execution_count": 27,
      "outputs": [
        {
          "output_type": "stream",
          "name": "stdout",
          "text": [
            "tf.Tensor([ 1  2 -1  2], shape=(4,), dtype=int32)\n"
          ]
        }
      ]
    },
    {
      "cell_type": "code",
      "source": [
        "tensor_three_d = tf.constant([\n",
        "    [[1,2,0], \n",
        "     [2,5,8],\n",
        "     [-1,-9,10],\n",
        "     [2,4,8]],\n",
        "\n",
        "     [[1,-2,0], \n",
        "     [2,3,8],\n",
        "     [-1,1,10],\n",
        "     [10,3,8]],\n",
        "\n",
        "     [[1,0,0], \n",
        "     [1,5,4],\n",
        "     [-1,9,10],\n",
        "     [0,4,8]]\n",
        "\n",
        "])\n",
        "print(tensor_three_d[0:2, ..., 2])"
      ],
      "metadata": {
        "colab": {
          "base_uri": "https://localhost:8080/"
        },
        "id": "uMf3nTMtxLQO",
        "outputId": "678273fa-0dec-428b-e8c1-aab9783baf1a"
      },
      "execution_count": 28,
      "outputs": [
        {
          "output_type": "stream",
          "name": "stdout",
          "text": [
            "tf.Tensor(\n",
            "[[ 0  8 10  8]\n",
            " [ 0  8 10  8]], shape=(2, 4), dtype=int32)\n"
          ]
        }
      ]
    },
    {
      "cell_type": "code",
      "source": [
        "print(tensor_three_d[..., :, 2])"
      ],
      "metadata": {
        "colab": {
          "base_uri": "https://localhost:8080/"
        },
        "id": "tjdnn1IezOwp",
        "outputId": "5a30c4da-5951-42c2-e41c-585a71001951"
      },
      "execution_count": 29,
      "outputs": [
        {
          "output_type": "stream",
          "name": "stdout",
          "text": [
            "tf.Tensor(\n",
            "[[ 0  8 10  8]\n",
            " [ 0  8 10  8]\n",
            " [ 0  4 10  8]], shape=(3, 4), dtype=int32)\n"
          ]
        }
      ]
    },
    {
      "cell_type": "code",
      "source": [],
      "metadata": {
        "id": "MJi7oy8i0TJl"
      },
      "execution_count": 29,
      "outputs": []
    },
    {
      "cell_type": "markdown",
      "source": [
        "# Math Operations"
      ],
      "metadata": {
        "id": "E6LXQI_-1FIf"
      }
    },
    {
      "cell_type": "code",
      "source": [
        "abs_tensor = tf.math.abs(\n",
        "    [-1,10,-3], name=None\n",
        ")\n",
        "\n",
        "print(abs_tensor)     # Absolute values"
      ],
      "metadata": {
        "colab": {
          "base_uri": "https://localhost:8080/"
        },
        "id": "VIAtJdkP1Miv",
        "outputId": "57b06b53-455f-4206-b778-9b7d7eb1f7e7"
      },
      "execution_count": 30,
      "outputs": [
        {
          "output_type": "stream",
          "name": "stdout",
          "text": [
            "tf.Tensor([ 1 10  3], shape=(3,), dtype=int32)\n"
          ]
        }
      ]
    },
    {
      "cell_type": "code",
      "source": [
        "complex_tensor = tf.math.abs([4+3j])\n",
        "\n",
        "print(complex_tensor)"
      ],
      "metadata": {
        "colab": {
          "base_uri": "https://localhost:8080/"
        },
        "id": "AB9m2bfo18e1",
        "outputId": "a375061e-021f-4f45-d56c-c39e1b6c49ce"
      },
      "execution_count": 31,
      "outputs": [
        {
          "output_type": "stream",
          "name": "stdout",
          "text": [
            "tf.Tensor([5.], shape=(1,), dtype=float64)\n"
          ]
        }
      ]
    },
    {
      "cell_type": "code",
      "source": [
        "add_tensor = tf.math.add([2,3,4,5], [1,2,3,4])\n",
        "\n",
        "print(add_tensor)"
      ],
      "metadata": {
        "colab": {
          "base_uri": "https://localhost:8080/"
        },
        "id": "ncBAAWvw3W_B",
        "outputId": "49cba8c1-ac46-4763-acd3-28dfd45509c5"
      },
      "execution_count": 32,
      "outputs": [
        {
          "output_type": "stream",
          "name": "stdout",
          "text": [
            "tf.Tensor([3 5 7 9], shape=(4,), dtype=int32)\n"
          ]
        }
      ]
    },
    {
      "cell_type": "code",
      "source": [
        "multiply_tensor = tf.math.multiply([2,3,4,5], [1,2,3,4])\n",
        "\n",
        "print(multiply_tensor)"
      ],
      "metadata": {
        "colab": {
          "base_uri": "https://localhost:8080/"
        },
        "id": "WdHOe85mvRq7",
        "outputId": "6bf5b995-44e0-4490-b938-dc2f93dbef7f"
      },
      "execution_count": 33,
      "outputs": [
        {
          "output_type": "stream",
          "name": "stdout",
          "text": [
            "tf.Tensor([ 2  6 12 20], shape=(4,), dtype=int32)\n"
          ]
        }
      ]
    },
    {
      "cell_type": "code",
      "source": [
        "tf.sqrt(25.00)"
      ],
      "metadata": {
        "colab": {
          "base_uri": "https://localhost:8080/"
        },
        "id": "h0ZD2Pk8vmh8",
        "outputId": "dec3f531-eba2-4adf-91ec-9fae422e217f"
      },
      "execution_count": 34,
      "outputs": [
        {
          "output_type": "execute_result",
          "data": {
            "text/plain": [
              "<tf.Tensor: shape=(), dtype=float32, numpy=5.0>"
            ]
          },
          "metadata": {},
          "execution_count": 34
        }
      ]
    },
    {
      "cell_type": "code",
      "source": [
        "x = tf.constant([2,4,6,8])\n",
        "y = tf.constant([7])\n",
        "\n",
        "print(tf.math.add(x,y))\n",
        "print(tf.math.multiply(x,y))"
      ],
      "metadata": {
        "colab": {
          "base_uri": "https://localhost:8080/"
        },
        "id": "FmD8C7kNWiHw",
        "outputId": "ca1a4372-7010-4df3-ccd7-9b7cc4d2df41"
      },
      "execution_count": 35,
      "outputs": [
        {
          "output_type": "stream",
          "name": "stdout",
          "text": [
            "tf.Tensor([ 9 11 13 15], shape=(4,), dtype=int32)\n",
            "tf.Tensor([14 28 42 56], shape=(4,), dtype=int32)\n"
          ]
        }
      ]
    },
    {
      "cell_type": "code",
      "source": [
        "x = tf.constant([2,4,6,8,7,1])\n",
        "y = tf.constant([[7], [5], [3]])\n",
        "\n",
        "print(tf.math.multiply(x,y))"
      ],
      "metadata": {
        "colab": {
          "base_uri": "https://localhost:8080/"
        },
        "id": "u1rYhptTW3Wh",
        "outputId": "a682cebd-5154-4f12-f7d1-7bf03427cec1"
      },
      "execution_count": 36,
      "outputs": [
        {
          "output_type": "stream",
          "name": "stdout",
          "text": [
            "tf.Tensor(\n",
            "[[14 28 42 56 49  7]\n",
            " [10 20 30 40 35  5]\n",
            " [ 6 12 18 24 21  3]], shape=(3, 6), dtype=int32)\n"
          ]
        }
      ]
    },
    {
      "cell_type": "code",
      "source": [
        "max_tensor = tf.math.maximum(2,4)\n",
        "\n",
        "print(max_tensor)"
      ],
      "metadata": {
        "colab": {
          "base_uri": "https://localhost:8080/"
        },
        "id": "zjqpWjXYup3x",
        "outputId": "417bd347-bee7-4bfa-a4cc-9f7e5268d16a"
      },
      "execution_count": 37,
      "outputs": [
        {
          "output_type": "stream",
          "name": "stdout",
          "text": [
            "tf.Tensor(4, shape=(), dtype=int32)\n"
          ]
        }
      ]
    },
    {
      "cell_type": "code",
      "source": [
        "min_tensor = tf.math.minimum(2,4)\n",
        "\n",
        "print(min_tensor)"
      ],
      "metadata": {
        "colab": {
          "base_uri": "https://localhost:8080/"
        },
        "id": "DvyQ3Ndeu-S8",
        "outputId": "bacfa84c-30ba-4474-cdb8-43a3b9f1ccfc"
      },
      "execution_count": 38,
      "outputs": [
        {
          "output_type": "stream",
          "name": "stdout",
          "text": [
            "tf.Tensor(2, shape=(), dtype=int32)\n"
          ]
        }
      ]
    },
    {
      "cell_type": "code",
      "source": [
        "arg_tensor = tf.math.argmax(\n",
        "    [[14, 28, 42, 56, 49,  7], [140, 280, 42, 5060, 49,  7]],\n",
        "    axis=0, # 0-column , 1-row\n",
        "    output_type=tf.dtypes.int64,\n",
        "    name=None\n",
        ")\n",
        "\n",
        "print(arg_tensor)"
      ],
      "metadata": {
        "colab": {
          "base_uri": "https://localhost:8080/"
        },
        "id": "FSgcvYaGvJWF",
        "outputId": "49cdc967-3ac8-41b8-d7d4-83e3813cc823"
      },
      "execution_count": 39,
      "outputs": [
        {
          "output_type": "stream",
          "name": "stdout",
          "text": [
            "tf.Tensor([1 1 0 1 0 0], shape=(6,), dtype=int64)\n"
          ]
        }
      ]
    },
    {
      "cell_type": "code",
      "source": [
        "arg_tensor = tf.math.argmax(\n",
        "    [[14, 28, 42, 56, 49,  7], [140, 280, 42, 5060, 49,  7]],\n",
        "    axis=1, # 0-column , 1-row\n",
        "    output_type=tf.dtypes.int64,\n",
        "    name=None\n",
        ")\n",
        "\n",
        "print(arg_tensor)"
      ],
      "metadata": {
        "colab": {
          "base_uri": "https://localhost:8080/"
        },
        "id": "6BImhNnmw-0d",
        "outputId": "d5e43620-5e15-4443-9678-0668e4b06ef0"
      },
      "execution_count": 40,
      "outputs": [
        {
          "output_type": "stream",
          "name": "stdout",
          "text": [
            "tf.Tensor([3 3], shape=(2,), dtype=int64)\n"
          ]
        }
      ]
    },
    {
      "cell_type": "code",
      "source": [
        "equal_tensor = tf.math.equal(\n",
        "    [2,3], [2,6], name=None\n",
        ")\n",
        "\n",
        "print(equal_tensor)"
      ],
      "metadata": {
        "colab": {
          "base_uri": "https://localhost:8080/"
        },
        "id": "DPAlf6Xe0Xyb",
        "outputId": "8f468f1a-e5ec-4cba-98c3-4b930c9a91af"
      },
      "execution_count": 41,
      "outputs": [
        {
          "output_type": "stream",
          "name": "stdout",
          "text": [
            "tf.Tensor([ True False], shape=(2,), dtype=bool)\n"
          ]
        }
      ]
    },
    {
      "cell_type": "code",
      "source": [
        "pow_tensor = tf.math.pow(\n",
        "    [2,3], [2,2], name=None\n",
        ")\n",
        "\n",
        "print(pow_tensor) # 2^2 , 3^2"
      ],
      "metadata": {
        "colab": {
          "base_uri": "https://localhost:8080/"
        },
        "id": "3-xLVXAv0i5v",
        "outputId": "66234d41-85b2-401e-d0cd-01ded98476fc"
      },
      "execution_count": 42,
      "outputs": [
        {
          "output_type": "stream",
          "name": "stdout",
          "text": [
            "tf.Tensor([4 9], shape=(2,), dtype=int32)\n"
          ]
        }
      ]
    },
    {
      "cell_type": "code",
      "source": [
        "reduce_sum_tensor = tf.math.reduce_sum(\n",
        "    [[14, 28, 42, 56, 49,  7], [140, 280, 42, 5060, 49,  7]],\n",
        "    axis=None, \n",
        "    keepdims=False, \n",
        "    name=None\n",
        ")\n",
        "\n",
        "print(reduce_sum_tensor) # sum among all elements"
      ],
      "metadata": {
        "colab": {
          "base_uri": "https://localhost:8080/"
        },
        "id": "KWE4Csue1tB_",
        "outputId": "d2c9490b-a0c5-4e31-e343-76748cb21ca0"
      },
      "execution_count": 43,
      "outputs": [
        {
          "output_type": "stream",
          "name": "stdout",
          "text": [
            "tf.Tensor(5774, shape=(), dtype=int32)\n"
          ]
        }
      ]
    },
    {
      "cell_type": "code",
      "source": [
        "reduce_max_tensor = tf.math.reduce_max(\n",
        "    [[14, 28, 42, 56, 49,  7], [140, 280, 42, 5060, 49,  7]],\n",
        "    axis=1, \n",
        "    keepdims=True, \n",
        "    name=None\n",
        ")\n",
        "\n",
        "print(reduce_max_tensor) # max among all elements"
      ],
      "metadata": {
        "colab": {
          "base_uri": "https://localhost:8080/"
        },
        "id": "xbxnEUDv3vQW",
        "outputId": "2df2b730-deb3-498e-a860-736d2255b5b5"
      },
      "execution_count": 44,
      "outputs": [
        {
          "output_type": "stream",
          "name": "stdout",
          "text": [
            "tf.Tensor(\n",
            "[[  56]\n",
            " [5060]], shape=(2, 1), dtype=int32)\n"
          ]
        }
      ]
    },
    {
      "cell_type": "code",
      "source": [
        "sigmoid_tensor = tf.math.sigmoid(\n",
        "    [2.5,4.5,6.5,8.5,7.5,1.5], name=None  # data type should be floating point\n",
        ")\n",
        "\n",
        "print(sigmoid_tensor)"
      ],
      "metadata": {
        "colab": {
          "base_uri": "https://localhost:8080/"
        },
        "id": "8B8vImOv4BX_",
        "outputId": "cde6bde3-8f24-413c-cfc7-715e46c51f64"
      },
      "execution_count": 45,
      "outputs": [
        {
          "output_type": "stream",
          "name": "stdout",
          "text": [
            "tf.Tensor([0.9241418  0.9890131  0.9984988  0.99979657 0.9994472  0.8175745 ], shape=(6,), dtype=float32)\n"
          ]
        }
      ]
    },
    {
      "cell_type": "code",
      "source": [
        "top_k_tensor = tf.math.top_k(\n",
        "    [2,3,4,5,10,6], \n",
        "    k=1,      # k - how many k elements we want\n",
        "    sorted=True, \n",
        "    name=None\n",
        ")\n",
        "\n",
        "print(top_k_tensor)"
      ],
      "metadata": {
        "colab": {
          "base_uri": "https://localhost:8080/"
        },
        "id": "RBWYmr1NYiSt",
        "outputId": "ecf48e50-b7cf-4476-9b1f-51e6ab491f88"
      },
      "execution_count": 46,
      "outputs": [
        {
          "output_type": "stream",
          "name": "stdout",
          "text": [
            "TopKV2(values=<tf.Tensor: shape=(1,), dtype=int32, numpy=array([10], dtype=int32)>, indices=<tf.Tensor: shape=(1,), dtype=int32, numpy=array([4], dtype=int32)>)\n"
          ]
        }
      ]
    },
    {
      "cell_type": "code",
      "source": [],
      "metadata": {
        "id": "-QIaZjWRfBG1"
      },
      "execution_count": 46,
      "outputs": []
    },
    {
      "cell_type": "markdown",
      "source": [
        "# Linear Algebra Operations"
      ],
      "metadata": {
        "id": "9-yjnTyYgEER"
      }
    },
    {
      "cell_type": "code",
      "source": [
        "a = tf.constant([[14, 28, 42]])\n",
        "b = tf.constant([[1],[2],[3]])\n",
        "\n",
        "matrics_mul_tensor = tf.linalg.matmul(\n",
        "    a,\n",
        "    b,\n",
        "    transpose_a=False,\n",
        "    transpose_b=False,\n",
        "    adjoint_a=False,\n",
        "    adjoint_b=False,\n",
        "    a_is_sparse=False,\n",
        "    b_is_sparse=False,\n",
        "    output_type=None,\n",
        "    name=None\n",
        ")\n",
        "\n",
        "print(matrics_mul_tensor)"
      ],
      "metadata": {
        "id": "v1m4-YSWgIvk",
        "colab": {
          "base_uri": "https://localhost:8080/"
        },
        "outputId": "f9751c60-6ce4-4bab-f1cf-c07522b78c59"
      },
      "execution_count": 47,
      "outputs": [
        {
          "output_type": "stream",
          "name": "stdout",
          "text": [
            "tf.Tensor([[196]], shape=(1, 1), dtype=int32)\n"
          ]
        }
      ]
    },
    {
      "cell_type": "code",
      "source": [
        "a@b"
      ],
      "metadata": {
        "colab": {
          "base_uri": "https://localhost:8080/"
        },
        "id": "mTwWVS9UarzC",
        "outputId": "92986054-ee96-4057-c1c8-d9c9c125e3c1"
      },
      "execution_count": 48,
      "outputs": [
        {
          "output_type": "execute_result",
          "data": {
            "text/plain": [
              "<tf.Tensor: shape=(1, 1), dtype=int32, numpy=array([[196]], dtype=int32)>"
            ]
          },
          "metadata": {},
          "execution_count": 48
        }
      ]
    },
    {
      "cell_type": "code",
      "source": [
        "transpose_tensor = tf.linalg.matrix_transpose(\n",
        "    a, name='matrix_transpose', conjugate=False\n",
        ")\n",
        "\n",
        "print(transpose_tensor)"
      ],
      "metadata": {
        "colab": {
          "base_uri": "https://localhost:8080/"
        },
        "id": "KLrW_5MobHFg",
        "outputId": "f65c460b-aa4b-44de-bcf7-122ed57b27a2"
      },
      "execution_count": 49,
      "outputs": [
        {
          "output_type": "stream",
          "name": "stdout",
          "text": [
            "tf.Tensor(\n",
            "[[14]\n",
            " [28]\n",
            " [42]], shape=(3, 1), dtype=int32)\n"
          ]
        }
      ]
    },
    {
      "cell_type": "code",
      "source": [
        "print(tf.transpose(b))"
      ],
      "metadata": {
        "colab": {
          "base_uri": "https://localhost:8080/"
        },
        "id": "bBfGtw5Kc4-v",
        "outputId": "e9a1f17d-0d04-4c7d-9afb-29d2064b8a65"
      },
      "execution_count": 50,
      "outputs": [
        {
          "output_type": "stream",
          "name": "stdout",
          "text": [
            "tf.Tensor([[1 2 3]], shape=(1, 3), dtype=int32)\n"
          ]
        }
      ]
    },
    {
      "cell_type": "code",
      "source": [
        "a = tf.constant([[14, 28],[2, 5]])\n",
        "b = tf.constant([[1, 0, 5],[2, 2,6]])\n",
        "\n",
        "matrics_mul_2d_tensor = tf.linalg.matmul(\n",
        "    a,\n",
        "    b\n",
        ")\n",
        "\n",
        "print(matrics_mul_2d_tensor)  # 2D matrix multiplication "
      ],
      "metadata": {
        "colab": {
          "base_uri": "https://localhost:8080/"
        },
        "id": "kee0gtEOfvHJ",
        "outputId": "6d5876b1-160d-45d3-d532-bcc47962b84d"
      },
      "execution_count": 51,
      "outputs": [
        {
          "output_type": "stream",
          "name": "stdout",
          "text": [
            "tf.Tensor(\n",
            "[[ 70  56 238]\n",
            " [ 12  10  40]], shape=(2, 3), dtype=int32)\n"
          ]
        }
      ]
    },
    {
      "cell_type": "code",
      "source": [
        "t = tf.constant([[ 0,  1,  2, 3],                \n",
        "                [-1,  0,  1, 2],\n",
        "                [-2, -1,  0, 1],\n",
        "                [-3, -2, -1, 0]])\n",
        " \n",
        " \n",
        "upper_t = tf.linalg.band_part(t, 0, -1) # Upper triangular part.\n",
        "lower_t = tf.linalg.band_part(t, -1, 0) # Lower triangular part.\n",
        "diagonal_t = tf.linalg.band_part(t, 0, 0) # Diagonal\n",
        "\n",
        "print(upper_t)\n",
        "print(lower_t)\n",
        "print(diagonal_t)"
      ],
      "metadata": {
        "colab": {
          "base_uri": "https://localhost:8080/"
        },
        "id": "Hep_RnCQjHRg",
        "outputId": "3bd39dbe-b2d8-4833-9f08-05fa6846d9d5"
      },
      "execution_count": 52,
      "outputs": [
        {
          "output_type": "stream",
          "name": "stdout",
          "text": [
            "tf.Tensor(\n",
            "[[0 1 2 3]\n",
            " [0 0 1 2]\n",
            " [0 0 0 1]\n",
            " [0 0 0 0]], shape=(4, 4), dtype=int32)\n",
            "tf.Tensor(\n",
            "[[ 0  0  0  0]\n",
            " [-1  0  0  0]\n",
            " [-2 -1  0  0]\n",
            " [-3 -2 -1  0]], shape=(4, 4), dtype=int32)\n",
            "tf.Tensor(\n",
            "[[0 0 0 0]\n",
            " [0 0 0 0]\n",
            " [0 0 0 0]\n",
            " [0 0 0 0]], shape=(4, 4), dtype=int32)\n"
          ]
        }
      ]
    },
    {
      "cell_type": "code",
      "source": [
        "upper_t = tf.linalg.band_part(t, -1, -1) \n",
        "lower_t = tf.linalg.band_part(t, 2, -1) \n",
        "diagonal_t = tf.linalg.band_part(t, 0, 0)\n",
        "\n",
        "print(upper_t)\n",
        "print(lower_t)\n",
        "print(diagonal_t)"
      ],
      "metadata": {
        "id": "1gGgaMjMwD_Y",
        "outputId": "68c5756b-1351-44c2-b7aa-183a4c5e9220",
        "colab": {
          "base_uri": "https://localhost:8080/"
        }
      },
      "execution_count": 53,
      "outputs": [
        {
          "output_type": "stream",
          "name": "stdout",
          "text": [
            "tf.Tensor(\n",
            "[[ 0  1  2  3]\n",
            " [-1  0  1  2]\n",
            " [-2 -1  0  1]\n",
            " [-3 -2 -1  0]], shape=(4, 4), dtype=int32)\n",
            "tf.Tensor(\n",
            "[[ 0  1  2  3]\n",
            " [-1  0  1  2]\n",
            " [-2 -1  0  1]\n",
            " [ 0 -2 -1  0]], shape=(4, 4), dtype=int32)\n",
            "tf.Tensor(\n",
            "[[0 0 0 0]\n",
            " [0 0 0 0]\n",
            " [0 0 0 0]\n",
            " [0 0 0 0]], shape=(4, 4), dtype=int32)\n"
          ]
        }
      ]
    },
    {
      "cell_type": "code",
      "source": [
        "a = tf.constant([[14, 28,4],[2, 5,5]])\n",
        "b = tf.constant([[1, 0, 3],[2,6, 2]])\n",
        "\n",
        "cross_pro_tensor = tf.linalg.cross(\n",
        "    a, b, name=None\n",
        ")\n",
        "\n",
        "print(cross_pro_tensor)"
      ],
      "metadata": {
        "id": "ylTrd0j1zCWW",
        "outputId": "009961ef-feab-439c-ada9-03eae5efc369",
        "colab": {
          "base_uri": "https://localhost:8080/"
        }
      },
      "execution_count": 54,
      "outputs": [
        {
          "output_type": "stream",
          "name": "stdout",
          "text": [
            "tf.Tensor(\n",
            "[[ 84 -38 -28]\n",
            " [-20   6   2]], shape=(2, 3), dtype=int32)\n"
          ]
        }
      ]
    },
    {
      "cell_type": "code",
      "source": [
        "a = tf.constant([[14, 28,4],[2, 5,5], [1, 2, 3]], dtype = tf.float32)  # data type should be floating point\n",
        "\n",
        "inverse_tensor = tf.linalg.inv(\n",
        "    a, adjoint=False, name=None\n",
        ")\n",
        "\n",
        "print(inverse_tensor) "
      ],
      "metadata": {
        "id": "jCBNWewo0pDJ",
        "outputId": "215faa37-f8c7-424c-a6b6-34402d905d4e",
        "colab": {
          "base_uri": "https://localhost:8080/"
        }
      },
      "execution_count": 55,
      "outputs": [
        {
          "output_type": "stream",
          "name": "stdout",
          "text": [
            "tf.Tensor(\n",
            "[[ 0.13157895 -2.          3.1578948 ]\n",
            " [-0.02631579  1.         -1.631579  ]\n",
            " [-0.02631579  0.          0.36842108]], shape=(3, 3), dtype=float32)\n"
          ]
        }
      ]
    },
    {
      "cell_type": "code",
      "source": [
        "inverse_tensor@a  # unit matrix"
      ],
      "metadata": {
        "id": "ktxgX7sm1Vt_",
        "outputId": "f7a6bcb6-f37d-434f-9fa3-2f9ac7b6bee0",
        "colab": {
          "base_uri": "https://localhost:8080/"
        }
      },
      "execution_count": 56,
      "outputs": [
        {
          "output_type": "execute_result",
          "data": {
            "text/plain": [
              "<tf.Tensor: shape=(3, 3), dtype=float32, numpy=\n",
              "array([[ 1.0000002e+00,  4.7683716e-07,  2.3841858e-07],\n",
              "       [-1.1920929e-07,  9.9999976e-01, -3.5762787e-07],\n",
              "       [ 0.0000000e+00,  0.0000000e+00,  1.0000001e+00]], dtype=float32)>"
            ]
          },
          "metadata": {},
          "execution_count": 56
        }
      ]
    },
    {
      "cell_type": "code",
      "source": [],
      "metadata": {
        "id": "KodQ4Cgu2rFT"
      },
      "execution_count": 57,
      "outputs": []
    },
    {
      "cell_type": "markdown",
      "source": [
        "#Einsum Operator"
      ],
      "metadata": {
        "id": "38eG7AbX1j-I"
      }
    },
    {
      "cell_type": "code",
      "source": [
        "A = np.array([[1,2], [2,3], [4,7]])\n",
        "\n",
        "B = np.array([[1,2,5], [2,3,0]])\n",
        "\n",
        "C = np.array([[1,5], [0,3], [4,2]])\n",
        "\n",
        "print(np.matmul(A,B),\"\\n\")\n",
        "\n",
        "print(np.einsum(\"ij,jk -> ik\", A,B))  # matrix multiplication"
      ],
      "metadata": {
        "id": "poepP-5G1uKy",
        "outputId": "820f4408-518c-49e4-f8af-afc35bf78689",
        "colab": {
          "base_uri": "https://localhost:8080/"
        }
      },
      "execution_count": 60,
      "outputs": [
        {
          "output_type": "stream",
          "name": "stdout",
          "text": [
            "[[ 5  8  5]\n",
            " [ 8 13 10]\n",
            " [18 29 20]] \n",
            "\n",
            "[[ 5  8  5]\n",
            " [ 8 13 10]\n",
            " [18 29 20]]\n"
          ]
        }
      ]
    },
    {
      "cell_type": "code",
      "source": [
        "print(A*C, \"\\n\")\n",
        "\n",
        "print(np.einsum(\"ij, ij -> ij\", A,C))  # Elementwise multiplication"
      ],
      "metadata": {
        "id": "DPochslm7dwm",
        "outputId": "92d1b86b-a052-4aef-bdcf-bcc18d343c0f",
        "colab": {
          "base_uri": "https://localhost:8080/"
        }
      },
      "execution_count": 63,
      "outputs": [
        {
          "output_type": "stream",
          "name": "stdout",
          "text": [
            "[[ 1 10]\n",
            " [ 0  9]\n",
            " [16 14]] \n",
            "\n",
            "[[ 1 10]\n",
            " [ 0  9]\n",
            " [16 14]]\n"
          ]
        }
      ]
    },
    {
      "cell_type": "code",
      "source": [
        "print(A.T, \"\\n\")\n",
        "\n",
        "print(np.einsum(\"ij -> ji\", A))  # Transpose"
      ],
      "metadata": {
        "id": "29Z82DdmK-PQ",
        "outputId": "e240562c-d4bf-41e2-f8c8-2a738b19a7c0",
        "colab": {
          "base_uri": "https://localhost:8080/"
        }
      },
      "execution_count": 65,
      "outputs": [
        {
          "output_type": "stream",
          "name": "stdout",
          "text": [
            "[[1 2 4]\n",
            " [2 3 7]] \n",
            "\n",
            "[[1 2 4]\n",
            " [2 3 7]]\n"
          ]
        }
      ]
    },
    {
      "cell_type": "code",
      "source": [],
      "metadata": {
        "id": "3meRTetpLUEy"
      },
      "execution_count": null,
      "outputs": []
    }
  ]
}