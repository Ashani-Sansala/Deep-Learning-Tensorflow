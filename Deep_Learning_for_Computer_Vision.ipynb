{
  "nbformat": 4,
  "nbformat_minor": 0,
  "metadata": {
    "colab": {
      "provenance": [],
      "authorship_tag": "ABX9TyPmwDVlaKMepuQpVHT6lLnv",
      "include_colab_link": true
    },
    "kernelspec": {
      "name": "python3",
      "display_name": "Python 3"
    },
    "language_info": {
      "name": "python"
    }
  },
  "cells": [
    {
      "cell_type": "markdown",
      "metadata": {
        "id": "view-in-github",
        "colab_type": "text"
      },
      "source": [
        "<a href=\"https://colab.research.google.com/github/Ashani-Sansala/Deep-Learning-Tensorflow/blob/main/Deep_Learning_for_Computer_Vision.ipynb\" target=\"_parent\"><img src=\"https://colab.research.google.com/assets/colab-badge.svg\" alt=\"Open In Colab\"/></a>"
      ]
    },
    {
      "cell_type": "code",
      "execution_count": 33,
      "metadata": {
        "id": "61BHbaMn074J"
      },
      "outputs": [],
      "source": [
        "import tensorflow as tf\n",
        "import numpy as np"
      ]
    },
    {
      "cell_type": "code",
      "source": [
        "tensor_zero_d = tf.constant(4)\n",
        "print(tensor_zero_d)"
      ],
      "metadata": {
        "colab": {
          "base_uri": "https://localhost:8080/"
        },
        "id": "NYkSp2lo1n2y",
        "outputId": "a50640c2-d129-44e6-e3fc-45ffb9ffb20d"
      },
      "execution_count": 34,
      "outputs": [
        {
          "output_type": "stream",
          "name": "stdout",
          "text": [
            "tf.Tensor(4, shape=(), dtype=int32)\n"
          ]
        }
      ]
    },
    {
      "cell_type": "code",
      "source": [
        "tensor_one_d = tf.constant([2,0,30,-1, 1.0], dtype=tf.float16)\n",
        "print(tensor_one_d)"
      ],
      "metadata": {
        "colab": {
          "base_uri": "https://localhost:8080/"
        },
        "id": "gmJwcOIg7qfo",
        "outputId": "9baccd25-94e4-46ce-8002-3fd47202f781"
      },
      "execution_count": 35,
      "outputs": [
        {
          "output_type": "stream",
          "name": "stdout",
          "text": [
            "tf.Tensor([ 2.  0. 30. -1.  1.], shape=(5,), dtype=float16)\n"
          ]
        }
      ]
    },
    {
      "cell_type": "code",
      "source": [
        "tensor_two_d = tf.constant([\n",
        "    [1,2,0],\n",
        "    [2,5,8],\n",
        "    [-1,-9,10],\n",
        "    [2,4,8]\n",
        "])\n",
        "print(tensor_two_d)"
      ],
      "metadata": {
        "colab": {
          "base_uri": "https://localhost:8080/"
        },
        "id": "iiUckKA770CE",
        "outputId": "0a8ec49f-398c-4a89-8b07-c570fb24a2d3"
      },
      "execution_count": 36,
      "outputs": [
        {
          "output_type": "stream",
          "name": "stdout",
          "text": [
            "tf.Tensor(\n",
            "[[ 1  2  0]\n",
            " [ 2  5  8]\n",
            " [-1 -9 10]\n",
            " [ 2  4  8]], shape=(4, 3), dtype=int32)\n"
          ]
        }
      ]
    },
    {
      "cell_type": "code",
      "source": [
        "tensor_three_d = tf.constant([\n",
        "    [[1,2,0], \n",
        "     [2,5,8],\n",
        "     [-1,-9,10],\n",
        "     [2,4,8]],\n",
        "\n",
        "     [[1,-2,0], \n",
        "     [2,3,8],\n",
        "     [-1,1,10],\n",
        "     [10,3,8]],\n",
        "\n",
        "     [[1,0,0], \n",
        "     [1,5,4],\n",
        "     [-1,9,10],\n",
        "     [0,4,8]]\n",
        "\n",
        "])\n",
        "print(tensor_three_d)"
      ],
      "metadata": {
        "colab": {
          "base_uri": "https://localhost:8080/"
        },
        "id": "ihsmB4v2-JeU",
        "outputId": "bfec335d-0f55-4fe8-cc2d-40bf7900f094"
      },
      "execution_count": 37,
      "outputs": [
        {
          "output_type": "stream",
          "name": "stdout",
          "text": [
            "tf.Tensor(\n",
            "[[[ 1  2  0]\n",
            "  [ 2  5  8]\n",
            "  [-1 -9 10]\n",
            "  [ 2  4  8]]\n",
            "\n",
            " [[ 1 -2  0]\n",
            "  [ 2  3  8]\n",
            "  [-1  1 10]\n",
            "  [10  3  8]]\n",
            "\n",
            " [[ 1  0  0]\n",
            "  [ 1  5  4]\n",
            "  [-1  9 10]\n",
            "  [ 0  4  8]]], shape=(3, 4, 3), dtype=int32)\n"
          ]
        }
      ]
    },
    {
      "cell_type": "code",
      "source": [
        "tensor_four_d = tf.constant([\n",
        "    [[[1,2,0], \n",
        "     [2,5,8],\n",
        "     [-1,-9,10],\n",
        "     [2,4,8]],\n",
        "\n",
        "     [[1,-2,0], \n",
        "     [2,3,8],\n",
        "     [-1,1,10],\n",
        "     [10,3,8]],\n",
        "\n",
        "     [[1,0,0], \n",
        "     [1,5,4],\n",
        "     [-1,9,10],\n",
        "     [0,4,8]]\n",
        "    ],\n",
        "\n",
        "    [[[1,2,0], \n",
        "     [2,5,8],\n",
        "     [-1,-9,10],\n",
        "     [2,4,8]],\n",
        "\n",
        "     [[1,-2,0], \n",
        "     [2,3,8],\n",
        "     [-1,1,10],\n",
        "     [10,3,8]],\n",
        "\n",
        "     [[1,0,0], \n",
        "     [1,5,4],\n",
        "     [-1,9,10],\n",
        "     [0,4,8]]\n",
        "],\n",
        "\n",
        "[[[1,2,0], \n",
        "     [2,5,8],\n",
        "     [-1,-9,10],\n",
        "     [2,4,8]],\n",
        "\n",
        "     [[1,-2,0], \n",
        "     [2,3,8],\n",
        "     [-1,1,10],\n",
        "     [10,3,8]],\n",
        "\n",
        "     [[1,0,0], \n",
        "     [1,5,4],\n",
        "     [-1,9,10],\n",
        "     [0,4,8]]\n",
        "]\n",
        "])\n",
        "\n",
        "print(tensor_four_d)"
      ],
      "metadata": {
        "colab": {
          "base_uri": "https://localhost:8080/"
        },
        "id": "yCWbCFDa-oYc",
        "outputId": "93ea8920-4901-47bd-8742-382b91922f78"
      },
      "execution_count": 38,
      "outputs": [
        {
          "output_type": "stream",
          "name": "stdout",
          "text": [
            "tf.Tensor(\n",
            "[[[[ 1  2  0]\n",
            "   [ 2  5  8]\n",
            "   [-1 -9 10]\n",
            "   [ 2  4  8]]\n",
            "\n",
            "  [[ 1 -2  0]\n",
            "   [ 2  3  8]\n",
            "   [-1  1 10]\n",
            "   [10  3  8]]\n",
            "\n",
            "  [[ 1  0  0]\n",
            "   [ 1  5  4]\n",
            "   [-1  9 10]\n",
            "   [ 0  4  8]]]\n",
            "\n",
            "\n",
            " [[[ 1  2  0]\n",
            "   [ 2  5  8]\n",
            "   [-1 -9 10]\n",
            "   [ 2  4  8]]\n",
            "\n",
            "  [[ 1 -2  0]\n",
            "   [ 2  3  8]\n",
            "   [-1  1 10]\n",
            "   [10  3  8]]\n",
            "\n",
            "  [[ 1  0  0]\n",
            "   [ 1  5  4]\n",
            "   [-1  9 10]\n",
            "   [ 0  4  8]]]\n",
            "\n",
            "\n",
            " [[[ 1  2  0]\n",
            "   [ 2  5  8]\n",
            "   [-1 -9 10]\n",
            "   [ 2  4  8]]\n",
            "\n",
            "  [[ 1 -2  0]\n",
            "   [ 2  3  8]\n",
            "   [-1  1 10]\n",
            "   [10  3  8]]\n",
            "\n",
            "  [[ 1  0  0]\n",
            "   [ 1  5  4]\n",
            "   [-1  9 10]\n",
            "   [ 0  4  8]]]], shape=(3, 3, 4, 3), dtype=int32)\n"
          ]
        }
      ]
    },
    {
      "cell_type": "code",
      "source": [
        "tensor_bool = tf.constant([True, False, True, True])\n",
        "print(tensor_bool)"
      ],
      "metadata": {
        "colab": {
          "base_uri": "https://localhost:8080/"
        },
        "id": "ZrDeucx2Az6f",
        "outputId": "aabc4e2e-cb68-460a-ec72-bd276137bd75"
      },
      "execution_count": 39,
      "outputs": [
        {
          "output_type": "stream",
          "name": "stdout",
          "text": [
            "tf.Tensor([ True False  True  True], shape=(4,), dtype=bool)\n"
          ]
        }
      ]
    },
    {
      "cell_type": "code",
      "source": [
        "tensor_string = tf.constant([\"Hello\", \"Hi\", \"Bye\"])\n",
        "print(tensor_string)"
      ],
      "metadata": {
        "colab": {
          "base_uri": "https://localhost:8080/"
        },
        "id": "y2I8aERcEEgl",
        "outputId": "5582a180-25cf-41bd-b1e3-9b24a85a8b8f"
      },
      "execution_count": 40,
      "outputs": [
        {
          "output_type": "stream",
          "name": "stdout",
          "text": [
            "tf.Tensor([b'Hello' b'Hi' b'Bye'], shape=(3,), dtype=string)\n"
          ]
        }
      ]
    },
    {
      "cell_type": "code",
      "source": [
        "np_array = np.array([2,6,10])\n",
        "print(np_array)"
      ],
      "metadata": {
        "colab": {
          "base_uri": "https://localhost:8080/"
        },
        "id": "8VSwIdfiEQT0",
        "outputId": "0f51c5e1-432b-4582-c5b2-dfa4e299c2a0"
      },
      "execution_count": 41,
      "outputs": [
        {
          "output_type": "stream",
          "name": "stdout",
          "text": [
            "[ 2  6 10]\n"
          ]
        }
      ]
    },
    {
      "cell_type": "code",
      "source": [
        "converted_tensor = tf.convert_to_tensor(np_array)\n",
        "print(converted_tensor)"
      ],
      "metadata": {
        "colab": {
          "base_uri": "https://localhost:8080/"
        },
        "id": "PIDdhkilEl3n",
        "outputId": "b42a9d5e-873c-4f62-ea85-26f6252df057"
      },
      "execution_count": 42,
      "outputs": [
        {
          "output_type": "stream",
          "name": "stdout",
          "text": [
            "tf.Tensor([ 2  6 10], shape=(3,), dtype=int64)\n"
          ]
        }
      ]
    },
    {
      "cell_type": "code",
      "source": [
        "eye_tensor = tf.eye(\n",
        "    num_rows=3,\n",
        "    num_columns=None,\n",
        "    batch_shape=None,\n",
        "    dtype=tf.dtypes.float32,\n",
        "    name=None\n",
        ")\n",
        "\n",
        "print(eye_tensor) #identity matrix"
      ],
      "metadata": {
        "colab": {
          "base_uri": "https://localhost:8080/"
        },
        "id": "r2i7Z1x0E-FS",
        "outputId": "8a0e43a6-a3ce-4802-caa1-e45cb97eeae3"
      },
      "execution_count": 43,
      "outputs": [
        {
          "output_type": "stream",
          "name": "stdout",
          "text": [
            "tf.Tensor(\n",
            "[[1. 0. 0.]\n",
            " [0. 1. 0.]\n",
            " [0. 0. 1.]], shape=(3, 3), dtype=float32)\n"
          ]
        }
      ]
    },
    {
      "cell_type": "code",
      "source": [
        "print(3*eye_tensor)"
      ],
      "metadata": {
        "colab": {
          "base_uri": "https://localhost:8080/"
        },
        "id": "t_eibchOFjHt",
        "outputId": "89717ab8-8d2c-4443-d375-60d0b75caf40"
      },
      "execution_count": 44,
      "outputs": [
        {
          "output_type": "stream",
          "name": "stdout",
          "text": [
            "tf.Tensor(\n",
            "[[3. 0. 0.]\n",
            " [0. 3. 0.]\n",
            " [0. 0. 3.]], shape=(3, 3), dtype=float32)\n"
          ]
        }
      ]
    },
    {
      "cell_type": "code",
      "source": [
        "eye_tensor1 = tf.eye(\n",
        "    num_rows=5,\n",
        "    num_columns=None,\n",
        "    batch_shape=[2,],\n",
        "    dtype=tf.dtypes.float32,\n",
        "    name=None\n",
        ")\n",
        "\n",
        "print(eye_tensor1)"
      ],
      "metadata": {
        "colab": {
          "base_uri": "https://localhost:8080/"
        },
        "id": "OXzpdVcsF91o",
        "outputId": "9b588b08-7a9b-418d-dd52-7d4c9c579a6f"
      },
      "execution_count": 45,
      "outputs": [
        {
          "output_type": "stream",
          "name": "stdout",
          "text": [
            "tf.Tensor(\n",
            "[[[1. 0. 0. 0. 0.]\n",
            "  [0. 1. 0. 0. 0.]\n",
            "  [0. 0. 1. 0. 0.]\n",
            "  [0. 0. 0. 1. 0.]\n",
            "  [0. 0. 0. 0. 1.]]\n",
            "\n",
            " [[1. 0. 0. 0. 0.]\n",
            "  [0. 1. 0. 0. 0.]\n",
            "  [0. 0. 1. 0. 0.]\n",
            "  [0. 0. 0. 1. 0.]\n",
            "  [0. 0. 0. 0. 1.]]], shape=(2, 5, 5), dtype=float32)\n"
          ]
        }
      ]
    },
    {
      "cell_type": "code",
      "source": [
        "fill_tensor = tf.fill(\n",
        "    [1,3,4],5, name=None\n",
        ")\n",
        "\n",
        "print(fill_tensor)"
      ],
      "metadata": {
        "colab": {
          "base_uri": "https://localhost:8080/"
        },
        "id": "TjLKShuDGqMX",
        "outputId": "f27b5662-4b5d-44b4-8b76-df4eb943a401"
      },
      "execution_count": 46,
      "outputs": [
        {
          "output_type": "stream",
          "name": "stdout",
          "text": [
            "tf.Tensor(\n",
            "[[[5 5 5 5]\n",
            "  [5 5 5 5]\n",
            "  [5 5 5 5]]], shape=(1, 3, 4), dtype=int32)\n"
          ]
        }
      ]
    },
    {
      "cell_type": "code",
      "source": [
        "ones_tensor = tf.ones(\n",
        "    [5,3],\n",
        "    dtype=tf.dtypes.int32,\n",
        "    name=None\n",
        ")\n",
        "\n",
        "print(ones_tensor)"
      ],
      "metadata": {
        "colab": {
          "base_uri": "https://localhost:8080/"
        },
        "id": "i4ZGJLwAIVwa",
        "outputId": "997dc5d3-29c8-4aec-e2a3-fcc523c6a1b9"
      },
      "execution_count": 47,
      "outputs": [
        {
          "output_type": "stream",
          "name": "stdout",
          "text": [
            "tf.Tensor(\n",
            "[[1 1 1]\n",
            " [1 1 1]\n",
            " [1 1 1]\n",
            " [1 1 1]\n",
            " [1 1 1]], shape=(5, 3), dtype=int32)\n"
          ]
        }
      ]
    },
    {
      "cell_type": "code",
      "source": [
        "ones_like_tensor = tf.ones_like(fill_tensor)\n",
        "\n",
        "print(ones_like_tensor)"
      ],
      "metadata": {
        "colab": {
          "base_uri": "https://localhost:8080/"
        },
        "id": "vT7niJgQJCQF",
        "outputId": "3e030246-92bf-4b21-b0a3-406f0d10e8f4"
      },
      "execution_count": 48,
      "outputs": [
        {
          "output_type": "stream",
          "name": "stdout",
          "text": [
            "tf.Tensor(\n",
            "[[[1 1 1 1]\n",
            "  [1 1 1 1]\n",
            "  [1 1 1 1]]], shape=(1, 3, 4), dtype=int32)\n"
          ]
        }
      ]
    },
    {
      "cell_type": "code",
      "source": [
        "zeros_tensor = tf.zeros(\n",
        "    shape = [2,3],\n",
        "    dtype=tf.dtypes.float32,\n",
        "    name=None\n",
        ")\n",
        "\n",
        "print(zeros_tensor)"
      ],
      "metadata": {
        "colab": {
          "base_uri": "https://localhost:8080/"
        },
        "id": "4nVq-aCTKzeX",
        "outputId": "d2fc65a7-53ff-4607-ecb1-3f867feeb57c"
      },
      "execution_count": 49,
      "outputs": [
        {
          "output_type": "stream",
          "name": "stdout",
          "text": [
            "tf.Tensor(\n",
            "[[0. 0. 0.]\n",
            " [0. 0. 0.]], shape=(2, 3), dtype=float32)\n"
          ]
        }
      ]
    },
    {
      "cell_type": "code",
      "source": [
        "random_tensor = tf.random.normal(\n",
        "    [3,2],\n",
        "    mean=0.0, #Mean value of the normal distribution\n",
        "    stddev=1.0,\n",
        "    dtype=tf.dtypes.float32,\n",
        "    seed=None,\n",
        "    name=None\n",
        ")\n",
        "\n",
        "print(random_tensor)"
      ],
      "metadata": {
        "colab": {
          "base_uri": "https://localhost:8080/"
        },
        "id": "YIgPBK7ALcAl",
        "outputId": "40cd22d2-3701-4e2f-cbc5-22f5a2bb8834"
      },
      "execution_count": 51,
      "outputs": [
        {
          "output_type": "stream",
          "name": "stdout",
          "text": [
            "tf.Tensor(\n",
            "[[ 0.13429876  1.2367196 ]\n",
            " [ 1.0392749  -0.3884726 ]\n",
            " [ 0.547374    1.0946507 ]], shape=(3, 2), dtype=float32)\n"
          ]
        }
      ]
    },
    {
      "cell_type": "code",
      "source": [],
      "metadata": {
        "id": "R4bMeKpZi2IM"
      },
      "execution_count": null,
      "outputs": []
    }
  ]
}