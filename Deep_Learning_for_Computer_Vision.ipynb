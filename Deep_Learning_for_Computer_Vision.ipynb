{
  "nbformat": 4,
  "nbformat_minor": 0,
  "metadata": {
    "colab": {
      "provenance": [],
      "authorship_tag": "ABX9TyM8IftmPqPUSbNuv3kVwgrk",
      "include_colab_link": true
    },
    "kernelspec": {
      "name": "python3",
      "display_name": "Python 3"
    },
    "language_info": {
      "name": "python"
    }
  },
  "cells": [
    {
      "cell_type": "markdown",
      "metadata": {
        "id": "view-in-github",
        "colab_type": "text"
      },
      "source": [
        "<a href=\"https://colab.research.google.com/github/Ashani-Sansala/Deep-Learning-Tensorflow/blob/main/Deep_Learning_for_Computer_Vision.ipynb\" target=\"_parent\"><img src=\"https://colab.research.google.com/assets/colab-badge.svg\" alt=\"Open In Colab\"/></a>"
      ]
    },
    {
      "cell_type": "code",
      "execution_count": 1,
      "metadata": {
        "id": "61BHbaMn074J"
      },
      "outputs": [],
      "source": [
        "import tensorflow as tf\n",
        "import numpy as np"
      ]
    },
    {
      "cell_type": "code",
      "source": [
        "tensor_zero_d = tf.constant(4)\n",
        "print(tensor_zero_d)"
      ],
      "metadata": {
        "colab": {
          "base_uri": "https://localhost:8080/"
        },
        "id": "NYkSp2lo1n2y",
        "outputId": "569ee8a6-fb4f-4c37-c05f-b6b9e08f0c58"
      },
      "execution_count": 2,
      "outputs": [
        {
          "output_type": "stream",
          "name": "stdout",
          "text": [
            "tf.Tensor(4, shape=(), dtype=int32)\n"
          ]
        }
      ]
    },
    {
      "cell_type": "code",
      "source": [
        "tensor_one_d = tf.constant([2,0,30,-1, 1.0], dtype=tf.float16)\n",
        "print(tensor_one_d)"
      ],
      "metadata": {
        "colab": {
          "base_uri": "https://localhost:8080/"
        },
        "id": "gmJwcOIg7qfo",
        "outputId": "cf44bf9f-6c0a-477d-aaac-e101357dbcbe"
      },
      "execution_count": 3,
      "outputs": [
        {
          "output_type": "stream",
          "name": "stdout",
          "text": [
            "tf.Tensor([ 2.  0. 30. -1.  1.], shape=(5,), dtype=float16)\n"
          ]
        }
      ]
    },
    {
      "cell_type": "code",
      "source": [
        "tensor_two_d = tf.constant([\n",
        "    [1,2,0],\n",
        "    [2,5,8],\n",
        "    [-1,-9,10],\n",
        "    [2,4,8]\n",
        "])\n",
        "print(tensor_two_d)"
      ],
      "metadata": {
        "colab": {
          "base_uri": "https://localhost:8080/"
        },
        "id": "iiUckKA770CE",
        "outputId": "325a947a-ab1a-497e-fbc7-448612abbfc5"
      },
      "execution_count": 4,
      "outputs": [
        {
          "output_type": "stream",
          "name": "stdout",
          "text": [
            "tf.Tensor(\n",
            "[[ 1  2  0]\n",
            " [ 2  5  8]\n",
            " [-1 -9 10]\n",
            " [ 2  4  8]], shape=(4, 3), dtype=int32)\n"
          ]
        }
      ]
    },
    {
      "cell_type": "code",
      "source": [
        "tensor_three_d = tf.constant([\n",
        "    [[1,2,0],\n",
        "     [2,5,8],\n",
        "     [-1,-9,10],\n",
        "     [2,4,8]],\n",
        "\n",
        "     [[1,-2,0],\n",
        "     [2,3,8],\n",
        "     [-1,1,10],\n",
        "     [10,3,8]],\n",
        "\n",
        "     [[1,0,0],\n",
        "     [1,5,4],\n",
        "     [-1,9,10],\n",
        "     [0,4,8]]\n",
        "\n",
        "])\n",
        "print(tensor_three_d)"
      ],
      "metadata": {
        "colab": {
          "base_uri": "https://localhost:8080/"
        },
        "id": "ihsmB4v2-JeU",
        "outputId": "6f54a594-6252-452a-eed2-2f054295f7b6"
      },
      "execution_count": 5,
      "outputs": [
        {
          "output_type": "stream",
          "name": "stdout",
          "text": [
            "tf.Tensor(\n",
            "[[[ 1  2  0]\n",
            "  [ 2  5  8]\n",
            "  [-1 -9 10]\n",
            "  [ 2  4  8]]\n",
            "\n",
            " [[ 1 -2  0]\n",
            "  [ 2  3  8]\n",
            "  [-1  1 10]\n",
            "  [10  3  8]]\n",
            "\n",
            " [[ 1  0  0]\n",
            "  [ 1  5  4]\n",
            "  [-1  9 10]\n",
            "  [ 0  4  8]]], shape=(3, 4, 3), dtype=int32)\n"
          ]
        }
      ]
    },
    {
      "cell_type": "code",
      "source": [
        "tensor_four_d = tf.constant([\n",
        "    [[[1,2,0],\n",
        "     [2,5,8],\n",
        "     [-1,-9,10],\n",
        "     [2,4,8]],\n",
        "\n",
        "     [[1,-2,0],\n",
        "     [2,3,8],\n",
        "     [-1,1,10],\n",
        "     [10,3,8]],\n",
        "\n",
        "     [[1,0,0],\n",
        "     [1,5,4],\n",
        "     [-1,9,10],\n",
        "     [0,4,8]]\n",
        "    ],\n",
        "\n",
        "    [[[1,2,0],\n",
        "     [2,5,8],\n",
        "     [-1,-9,10],\n",
        "     [2,4,8]],\n",
        "\n",
        "     [[1,-2,0],\n",
        "     [2,3,8],\n",
        "     [-1,1,10],\n",
        "     [10,3,8]],\n",
        "\n",
        "     [[1,0,0],\n",
        "     [1,5,4],\n",
        "     [-1,9,10],\n",
        "     [0,4,8]]\n",
        "],\n",
        "\n",
        "[[[1,2,0],\n",
        "     [2,5,8],\n",
        "     [-1,-9,10],\n",
        "     [2,4,8]],\n",
        "\n",
        "     [[1,-2,0],\n",
        "     [2,3,8],\n",
        "     [-1,1,10],\n",
        "     [10,3,8]],\n",
        "\n",
        "     [[1,0,0],\n",
        "     [1,5,4],\n",
        "     [-1,9,10],\n",
        "     [0,4,8]]\n",
        "]\n",
        "])\n",
        "\n",
        "print(tensor_four_d)"
      ],
      "metadata": {
        "colab": {
          "base_uri": "https://localhost:8080/"
        },
        "id": "yCWbCFDa-oYc",
        "outputId": "ef1417bc-7104-4179-c9e7-b8001ed86dc8"
      },
      "execution_count": 6,
      "outputs": [
        {
          "output_type": "stream",
          "name": "stdout",
          "text": [
            "tf.Tensor(\n",
            "[[[[ 1  2  0]\n",
            "   [ 2  5  8]\n",
            "   [-1 -9 10]\n",
            "   [ 2  4  8]]\n",
            "\n",
            "  [[ 1 -2  0]\n",
            "   [ 2  3  8]\n",
            "   [-1  1 10]\n",
            "   [10  3  8]]\n",
            "\n",
            "  [[ 1  0  0]\n",
            "   [ 1  5  4]\n",
            "   [-1  9 10]\n",
            "   [ 0  4  8]]]\n",
            "\n",
            "\n",
            " [[[ 1  2  0]\n",
            "   [ 2  5  8]\n",
            "   [-1 -9 10]\n",
            "   [ 2  4  8]]\n",
            "\n",
            "  [[ 1 -2  0]\n",
            "   [ 2  3  8]\n",
            "   [-1  1 10]\n",
            "   [10  3  8]]\n",
            "\n",
            "  [[ 1  0  0]\n",
            "   [ 1  5  4]\n",
            "   [-1  9 10]\n",
            "   [ 0  4  8]]]\n",
            "\n",
            "\n",
            " [[[ 1  2  0]\n",
            "   [ 2  5  8]\n",
            "   [-1 -9 10]\n",
            "   [ 2  4  8]]\n",
            "\n",
            "  [[ 1 -2  0]\n",
            "   [ 2  3  8]\n",
            "   [-1  1 10]\n",
            "   [10  3  8]]\n",
            "\n",
            "  [[ 1  0  0]\n",
            "   [ 1  5  4]\n",
            "   [-1  9 10]\n",
            "   [ 0  4  8]]]], shape=(3, 3, 4, 3), dtype=int32)\n"
          ]
        }
      ]
    },
    {
      "cell_type": "code",
      "source": [
        "tensor_bool = tf.constant([True, False, True, True])\n",
        "print(tensor_bool)"
      ],
      "metadata": {
        "colab": {
          "base_uri": "https://localhost:8080/"
        },
        "id": "ZrDeucx2Az6f",
        "outputId": "f8e58ea7-7a7d-4baf-9adc-5e7e481ce572"
      },
      "execution_count": 7,
      "outputs": [
        {
          "output_type": "stream",
          "name": "stdout",
          "text": [
            "tf.Tensor([ True False  True  True], shape=(4,), dtype=bool)\n"
          ]
        }
      ]
    },
    {
      "cell_type": "code",
      "source": [
        "tensor_string = tf.constant([\"Hello\", \"Hi\", \"Bye\"])\n",
        "print(tensor_string)"
      ],
      "metadata": {
        "colab": {
          "base_uri": "https://localhost:8080/"
        },
        "id": "y2I8aERcEEgl",
        "outputId": "3fb9077c-cbb3-4bbf-ff9b-a5ef99f3f52d"
      },
      "execution_count": 8,
      "outputs": [
        {
          "output_type": "stream",
          "name": "stdout",
          "text": [
            "tf.Tensor([b'Hello' b'Hi' b'Bye'], shape=(3,), dtype=string)\n"
          ]
        }
      ]
    },
    {
      "cell_type": "code",
      "source": [
        "np_array = np.array([2,6,10])\n",
        "print(np_array)"
      ],
      "metadata": {
        "colab": {
          "base_uri": "https://localhost:8080/"
        },
        "id": "8VSwIdfiEQT0",
        "outputId": "167ca9c1-817f-439b-938d-c5a695a3965c"
      },
      "execution_count": 9,
      "outputs": [
        {
          "output_type": "stream",
          "name": "stdout",
          "text": [
            "[ 2  6 10]\n"
          ]
        }
      ]
    },
    {
      "cell_type": "code",
      "source": [
        "converted_tensor = tf.convert_to_tensor(np_array)\n",
        "print(converted_tensor)"
      ],
      "metadata": {
        "colab": {
          "base_uri": "https://localhost:8080/"
        },
        "id": "PIDdhkilEl3n",
        "outputId": "9ca82d27-e1d6-43e1-c337-3541258f0e88"
      },
      "execution_count": 10,
      "outputs": [
        {
          "output_type": "stream",
          "name": "stdout",
          "text": [
            "tf.Tensor([ 2  6 10], shape=(3,), dtype=int64)\n"
          ]
        }
      ]
    },
    {
      "cell_type": "code",
      "source": [
        "eye_tensor = tf.eye(\n",
        "    num_rows=3,\n",
        "    num_columns=None,\n",
        "    batch_shape=None,\n",
        "    dtype=tf.dtypes.float32,\n",
        "    name=None\n",
        ")\n",
        "\n",
        "print(eye_tensor) #identity matrix"
      ],
      "metadata": {
        "colab": {
          "base_uri": "https://localhost:8080/"
        },
        "id": "r2i7Z1x0E-FS",
        "outputId": "fc3055e2-ef17-4f68-f51d-3a58fb42d9e9"
      },
      "execution_count": 11,
      "outputs": [
        {
          "output_type": "stream",
          "name": "stdout",
          "text": [
            "tf.Tensor(\n",
            "[[1. 0. 0.]\n",
            " [0. 1. 0.]\n",
            " [0. 0. 1.]], shape=(3, 3), dtype=float32)\n"
          ]
        }
      ]
    },
    {
      "cell_type": "code",
      "source": [
        "print(3*eye_tensor)"
      ],
      "metadata": {
        "colab": {
          "base_uri": "https://localhost:8080/"
        },
        "id": "t_eibchOFjHt",
        "outputId": "513c8857-1f36-4feb-e94f-f62da035d59a"
      },
      "execution_count": 12,
      "outputs": [
        {
          "output_type": "stream",
          "name": "stdout",
          "text": [
            "tf.Tensor(\n",
            "[[3. 0. 0.]\n",
            " [0. 3. 0.]\n",
            " [0. 0. 3.]], shape=(3, 3), dtype=float32)\n"
          ]
        }
      ]
    },
    {
      "cell_type": "code",
      "source": [
        "eye_tensor1 = tf.eye(\n",
        "    num_rows=5,\n",
        "    num_columns=None,\n",
        "    batch_shape=[2,],\n",
        "    dtype=tf.dtypes.float32,\n",
        "    name=None\n",
        ")\n",
        "\n",
        "print(eye_tensor1)"
      ],
      "metadata": {
        "colab": {
          "base_uri": "https://localhost:8080/"
        },
        "id": "OXzpdVcsF91o",
        "outputId": "69556f5c-c6ab-45aa-8b0d-4695d148f498"
      },
      "execution_count": 13,
      "outputs": [
        {
          "output_type": "stream",
          "name": "stdout",
          "text": [
            "tf.Tensor(\n",
            "[[[1. 0. 0. 0. 0.]\n",
            "  [0. 1. 0. 0. 0.]\n",
            "  [0. 0. 1. 0. 0.]\n",
            "  [0. 0. 0. 1. 0.]\n",
            "  [0. 0. 0. 0. 1.]]\n",
            "\n",
            " [[1. 0. 0. 0. 0.]\n",
            "  [0. 1. 0. 0. 0.]\n",
            "  [0. 0. 1. 0. 0.]\n",
            "  [0. 0. 0. 1. 0.]\n",
            "  [0. 0. 0. 0. 1.]]], shape=(2, 5, 5), dtype=float32)\n"
          ]
        }
      ]
    },
    {
      "cell_type": "code",
      "source": [
        "fill_tensor = tf.fill(\n",
        "    [1,3,4],5, name=None\n",
        ")\n",
        "\n",
        "print(fill_tensor)"
      ],
      "metadata": {
        "colab": {
          "base_uri": "https://localhost:8080/"
        },
        "id": "TjLKShuDGqMX",
        "outputId": "9d7ec5d7-542d-4ce2-b06a-0c1f10ee6dde"
      },
      "execution_count": 14,
      "outputs": [
        {
          "output_type": "stream",
          "name": "stdout",
          "text": [
            "tf.Tensor(\n",
            "[[[5 5 5 5]\n",
            "  [5 5 5 5]\n",
            "  [5 5 5 5]]], shape=(1, 3, 4), dtype=int32)\n"
          ]
        }
      ]
    },
    {
      "cell_type": "code",
      "source": [
        "ones_tensor = tf.ones(\n",
        "    [5,3],\n",
        "    dtype=tf.dtypes.int32,\n",
        "    name=None\n",
        ")\n",
        "\n",
        "print(ones_tensor)"
      ],
      "metadata": {
        "colab": {
          "base_uri": "https://localhost:8080/"
        },
        "id": "i4ZGJLwAIVwa",
        "outputId": "03bf9d6e-436e-4a5b-a8ea-43a54165f1ad"
      },
      "execution_count": 15,
      "outputs": [
        {
          "output_type": "stream",
          "name": "stdout",
          "text": [
            "tf.Tensor(\n",
            "[[1 1 1]\n",
            " [1 1 1]\n",
            " [1 1 1]\n",
            " [1 1 1]\n",
            " [1 1 1]], shape=(5, 3), dtype=int32)\n"
          ]
        }
      ]
    },
    {
      "cell_type": "code",
      "source": [
        "ones_like_tensor = tf.ones_like(fill_tensor)\n",
        "\n",
        "print(ones_like_tensor)"
      ],
      "metadata": {
        "colab": {
          "base_uri": "https://localhost:8080/"
        },
        "id": "vT7niJgQJCQF",
        "outputId": "267902fd-17a4-4fd2-a8a8-4c3796f07216"
      },
      "execution_count": 16,
      "outputs": [
        {
          "output_type": "stream",
          "name": "stdout",
          "text": [
            "tf.Tensor(\n",
            "[[[1 1 1 1]\n",
            "  [1 1 1 1]\n",
            "  [1 1 1 1]]], shape=(1, 3, 4), dtype=int32)\n"
          ]
        }
      ]
    },
    {
      "cell_type": "code",
      "source": [
        "zeros_tensor = tf.zeros(\n",
        "    shape = [2,3],\n",
        "    dtype=tf.dtypes.float32,\n",
        "    name=None\n",
        ")\n",
        "\n",
        "print(zeros_tensor)"
      ],
      "metadata": {
        "colab": {
          "base_uri": "https://localhost:8080/"
        },
        "id": "4nVq-aCTKzeX",
        "outputId": "06aa1a75-69c0-4de0-fb54-bdda630add36"
      },
      "execution_count": 17,
      "outputs": [
        {
          "output_type": "stream",
          "name": "stdout",
          "text": [
            "tf.Tensor(\n",
            "[[0. 0. 0.]\n",
            " [0. 0. 0.]], shape=(2, 3), dtype=float32)\n"
          ]
        }
      ]
    },
    {
      "cell_type": "code",
      "source": [
        "random_tensor = tf.random.normal(\n",
        "    [3,2],\n",
        "    mean=0.0, #Mean value of the normal distribution\n",
        "    stddev=1.0,\n",
        "    dtype=tf.dtypes.float32,\n",
        "    seed=None,\n",
        "    name=None\n",
        ")\n",
        "\n",
        "print(random_tensor)"
      ],
      "metadata": {
        "colab": {
          "base_uri": "https://localhost:8080/"
        },
        "id": "YIgPBK7ALcAl",
        "outputId": "aca5e52c-0656-4038-8015-84f02e5f7864"
      },
      "execution_count": 18,
      "outputs": [
        {
          "output_type": "stream",
          "name": "stdout",
          "text": [
            "tf.Tensor(\n",
            "[[ 0.51073676 -1.2124783 ]\n",
            " [-0.2500364   0.6619475 ]\n",
            " [ 1.468066    0.17463201]], shape=(3, 2), dtype=float32)\n"
          ]
        }
      ]
    },
    {
      "cell_type": "code",
      "source": [
        "uniform_random_tensor = tf.random.uniform(\n",
        "    [2,3],\n",
        "    minval=0,\n",
        "    maxval=100,\n",
        "    dtype=tf.dtypes.float32,\n",
        "    seed=5,\n",
        "    name=None\n",
        ")\n",
        "\n",
        "print(uniform_random_tensor)"
      ],
      "metadata": {
        "colab": {
          "base_uri": "https://localhost:8080/"
        },
        "id": "R4bMeKpZi2IM",
        "outputId": "2a9d8969-ae32-43ae-e930-f8085421b8c1"
      },
      "execution_count": 19,
      "outputs": [
        {
          "output_type": "stream",
          "name": "stdout",
          "text": [
            "tf.Tensor(\n",
            "[[38.831127 66.36828  19.191074]\n",
            " [70.60526  96.318344 32.628323]], shape=(2, 3), dtype=float32)\n"
          ]
        }
      ]
    },
    {
      "cell_type": "code",
      "source": [
        "tensor_seed = tf.random.set_seed(\n",
        "    10\n",
        ")\n",
        "\n",
        "print(tf.random.uniform([2,],maxval=100, dtype=tf.dtypes.float32,seed=5))\n",
        "print(tf.random.uniform([2,],maxval=100, dtype=tf.dtypes.float32,seed=5))\n",
        "print(tf.random.uniform([2,],maxval=100, dtype=tf.dtypes.float32,seed=5))\n",
        "print(tf.random.uniform([2,],maxval=100, dtype=tf.dtypes.float32,seed=5))"
      ],
      "metadata": {
        "colab": {
          "base_uri": "https://localhost:8080/"
        },
        "id": "pV7-rzcaoCt4",
        "outputId": "7546eff2-ae94-4b91-8010-c7fe820c862b"
      },
      "execution_count": 20,
      "outputs": [
        {
          "output_type": "stream",
          "name": "stdout",
          "text": [
            "tf.Tensor([98.94415  36.855625], shape=(2,), dtype=float32)\n",
            "tf.Tensor([25.170158   3.6970735], shape=(2,), dtype=float32)\n",
            "tf.Tensor([23.782969 68.802086], shape=(2,), dtype=float32)\n",
            "tf.Tensor([94.44143  95.781235], shape=(2,), dtype=float32)\n"
          ]
        }
      ]
    },
    {
      "cell_type": "code",
      "source": [
        "#########    Indexing  #############"
      ],
      "metadata": {
        "id": "-rcoEOPFsPA5"
      },
      "execution_count": 21,
      "outputs": []
    },
    {
      "cell_type": "code",
      "source": [
        "tensor_indexd = tf.constant([1,10,-3,5,27])\n",
        "\n",
        "print(tensor_indexd)\n",
        "print(tensor_indexd[0])\n",
        "print(tensor_indexd[1])"
      ],
      "metadata": {
        "colab": {
          "base_uri": "https://localhost:8080/"
        },
        "id": "Fsd7S2P_tcia",
        "outputId": "42cd702d-c484-4c80-9e39-c85b3f6e871f"
      },
      "execution_count": 22,
      "outputs": [
        {
          "output_type": "stream",
          "name": "stdout",
          "text": [
            "tf.Tensor([ 1 10 -3  5 27], shape=(5,), dtype=int32)\n",
            "tf.Tensor(1, shape=(), dtype=int32)\n",
            "tf.Tensor(10, shape=(), dtype=int32)\n"
          ]
        }
      ]
    },
    {
      "cell_type": "code",
      "source": [
        "print(tensor_indexd[1:3])\n",
        "print(tensor_indexd[1])"
      ],
      "metadata": {
        "colab": {
          "base_uri": "https://localhost:8080/"
        },
        "id": "3I74msPvtuem",
        "outputId": "e8096e1e-a1ac-4229-8235-c10a10df4b63"
      },
      "execution_count": 23,
      "outputs": [
        {
          "output_type": "stream",
          "name": "stdout",
          "text": [
            "tf.Tensor([10 -3], shape=(2,), dtype=int32)\n",
            "tf.Tensor(10, shape=(), dtype=int32)\n"
          ]
        }
      ]
    },
    {
      "cell_type": "code",
      "source": [
        "tf.range(1,6)"
      ],
      "metadata": {
        "colab": {
          "base_uri": "https://localhost:8080/"
        },
        "id": "nK3YTtqKoAQA",
        "outputId": "1bf00efd-d09d-4f15-fb9f-339c46250a09"
      },
      "execution_count": 24,
      "outputs": [
        {
          "output_type": "execute_result",
          "data": {
            "text/plain": [
              "<tf.Tensor: shape=(5,), dtype=int32, numpy=array([1, 2, 3, 4, 5], dtype=int32)>"
            ]
          },
          "metadata": {},
          "execution_count": 24
        }
      ]
    },
    {
      "cell_type": "code",
      "source": [
        "tensor_two_d = tf.constant([\n",
        "    [1,2,0],\n",
        "    [2,5,8],\n",
        "    [-1,-9,10],\n",
        "    [2,4,8]\n",
        "])\n",
        "# print(tensor_two_d[row range, column range])\n",
        "print(tensor_two_d[0:3, 0:2])"
      ],
      "metadata": {
        "colab": {
          "base_uri": "https://localhost:8080/"
        },
        "id": "s1ZbaXBeoLGD",
        "outputId": "71ae0322-3d10-4428-d7ca-905f8333bb2b"
      },
      "execution_count": 25,
      "outputs": [
        {
          "output_type": "stream",
          "name": "stdout",
          "text": [
            "tf.Tensor(\n",
            "[[ 1  2]\n",
            " [ 2  5]\n",
            " [-1 -9]], shape=(3, 2), dtype=int32)\n"
          ]
        }
      ]
    },
    {
      "cell_type": "code",
      "source": [
        "print(tensor_two_d[2, 1:])"
      ],
      "metadata": {
        "colab": {
          "base_uri": "https://localhost:8080/"
        },
        "id": "wV3sbhnlwfPx",
        "outputId": "b7832f70-1a6f-40da-e720-290c12b4fd74"
      },
      "execution_count": 26,
      "outputs": [
        {
          "output_type": "stream",
          "name": "stdout",
          "text": [
            "tf.Tensor([-9 10], shape=(2,), dtype=int32)\n"
          ]
        }
      ]
    },
    {
      "cell_type": "code",
      "source": [
        "print(tensor_two_d[:, 0])"
      ],
      "metadata": {
        "colab": {
          "base_uri": "https://localhost:8080/"
        },
        "id": "4e2tpq8Wwic8",
        "outputId": "ba2e0fdc-a64d-41f6-92da-53ca3e23cc5f"
      },
      "execution_count": 27,
      "outputs": [
        {
          "output_type": "stream",
          "name": "stdout",
          "text": [
            "tf.Tensor([ 1  2 -1  2], shape=(4,), dtype=int32)\n"
          ]
        }
      ]
    },
    {
      "cell_type": "code",
      "source": [
        "tensor_three_d = tf.constant([\n",
        "    [[1,2,0],\n",
        "     [2,5,8],\n",
        "     [-1,-9,10],\n",
        "     [2,4,8]],\n",
        "\n",
        "     [[1,-2,0],\n",
        "     [2,3,8],\n",
        "     [-1,1,10],\n",
        "     [10,3,8]],\n",
        "\n",
        "     [[1,0,0],\n",
        "     [1,5,4],\n",
        "     [-1,9,10],\n",
        "     [0,4,8]]\n",
        "\n",
        "])\n",
        "print(tensor_three_d[0:2, ..., 2])"
      ],
      "metadata": {
        "colab": {
          "base_uri": "https://localhost:8080/"
        },
        "id": "uMf3nTMtxLQO",
        "outputId": "c76f5e7c-87c8-45dc-dd4a-d5b061768f67"
      },
      "execution_count": 28,
      "outputs": [
        {
          "output_type": "stream",
          "name": "stdout",
          "text": [
            "tf.Tensor(\n",
            "[[ 0  8 10  8]\n",
            " [ 0  8 10  8]], shape=(2, 4), dtype=int32)\n"
          ]
        }
      ]
    },
    {
      "cell_type": "code",
      "source": [
        "print(tensor_three_d[..., :, 2])"
      ],
      "metadata": {
        "colab": {
          "base_uri": "https://localhost:8080/"
        },
        "id": "tjdnn1IezOwp",
        "outputId": "1eff0ef6-415d-4a33-ebf7-f8dfc007218e"
      },
      "execution_count": 29,
      "outputs": [
        {
          "output_type": "stream",
          "name": "stdout",
          "text": [
            "tf.Tensor(\n",
            "[[ 0  8 10  8]\n",
            " [ 0  8 10  8]\n",
            " [ 0  4 10  8]], shape=(3, 4), dtype=int32)\n"
          ]
        }
      ]
    },
    {
      "cell_type": "code",
      "source": [],
      "metadata": {
        "id": "MJi7oy8i0TJl"
      },
      "execution_count": 29,
      "outputs": []
    },
    {
      "cell_type": "markdown",
      "source": [
        "# Math Operations"
      ],
      "metadata": {
        "id": "E6LXQI_-1FIf"
      }
    },
    {
      "cell_type": "code",
      "source": [
        "abs_tensor = tf.math.abs(\n",
        "    [-1,10,-3], name=None\n",
        ")\n",
        "\n",
        "print(abs_tensor)     # Absolute values"
      ],
      "metadata": {
        "colab": {
          "base_uri": "https://localhost:8080/"
        },
        "id": "VIAtJdkP1Miv",
        "outputId": "13173bbc-1c8f-45cf-b31c-7ea72467624e"
      },
      "execution_count": 30,
      "outputs": [
        {
          "output_type": "stream",
          "name": "stdout",
          "text": [
            "tf.Tensor([ 1 10  3], shape=(3,), dtype=int32)\n"
          ]
        }
      ]
    },
    {
      "cell_type": "code",
      "source": [
        "complex_tensor = tf.math.abs([4+3j])\n",
        "\n",
        "print(complex_tensor)"
      ],
      "metadata": {
        "colab": {
          "base_uri": "https://localhost:8080/"
        },
        "id": "AB9m2bfo18e1",
        "outputId": "279eaffc-088e-40ce-b07a-ad52c4c4b241"
      },
      "execution_count": 31,
      "outputs": [
        {
          "output_type": "stream",
          "name": "stdout",
          "text": [
            "tf.Tensor([5.], shape=(1,), dtype=float64)\n"
          ]
        }
      ]
    },
    {
      "cell_type": "code",
      "source": [
        "add_tensor = tf.math.add([2,3,4,5], [1,2,3,4])\n",
        "\n",
        "print(add_tensor)"
      ],
      "metadata": {
        "colab": {
          "base_uri": "https://localhost:8080/"
        },
        "id": "ncBAAWvw3W_B",
        "outputId": "03823cb8-df1e-4ca7-d420-90d09e1b29bf"
      },
      "execution_count": 32,
      "outputs": [
        {
          "output_type": "stream",
          "name": "stdout",
          "text": [
            "tf.Tensor([3 5 7 9], shape=(4,), dtype=int32)\n"
          ]
        }
      ]
    },
    {
      "cell_type": "code",
      "source": [
        "multiply_tensor = tf.math.multiply([2,3,4,5], [1,2,3,4])\n",
        "\n",
        "print(multiply_tensor)"
      ],
      "metadata": {
        "colab": {
          "base_uri": "https://localhost:8080/"
        },
        "id": "WdHOe85mvRq7",
        "outputId": "53b9168c-bc62-4dff-869b-f7876f813e95"
      },
      "execution_count": 33,
      "outputs": [
        {
          "output_type": "stream",
          "name": "stdout",
          "text": [
            "tf.Tensor([ 2  6 12 20], shape=(4,), dtype=int32)\n"
          ]
        }
      ]
    },
    {
      "cell_type": "code",
      "source": [
        "tf.sqrt(25.00)"
      ],
      "metadata": {
        "colab": {
          "base_uri": "https://localhost:8080/"
        },
        "id": "h0ZD2Pk8vmh8",
        "outputId": "3fe246c0-c7e2-4e99-ec62-0bcb48117628"
      },
      "execution_count": 34,
      "outputs": [
        {
          "output_type": "execute_result",
          "data": {
            "text/plain": [
              "<tf.Tensor: shape=(), dtype=float32, numpy=5.0>"
            ]
          },
          "metadata": {},
          "execution_count": 34
        }
      ]
    },
    {
      "cell_type": "code",
      "source": [
        "x = tf.constant([2,4,6,8])\n",
        "y = tf.constant([7])\n",
        "\n",
        "print(tf.math.add(x,y))\n",
        "print(tf.math.multiply(x,y))"
      ],
      "metadata": {
        "colab": {
          "base_uri": "https://localhost:8080/"
        },
        "id": "FmD8C7kNWiHw",
        "outputId": "e6751e3a-09b6-4503-a7ed-f378425662de"
      },
      "execution_count": 35,
      "outputs": [
        {
          "output_type": "stream",
          "name": "stdout",
          "text": [
            "tf.Tensor([ 9 11 13 15], shape=(4,), dtype=int32)\n",
            "tf.Tensor([14 28 42 56], shape=(4,), dtype=int32)\n"
          ]
        }
      ]
    },
    {
      "cell_type": "code",
      "source": [
        "x = tf.constant([2,4,6,8,7,1])\n",
        "y = tf.constant([[7], [5], [3]])\n",
        "\n",
        "print(tf.math.multiply(x,y))"
      ],
      "metadata": {
        "colab": {
          "base_uri": "https://localhost:8080/"
        },
        "id": "u1rYhptTW3Wh",
        "outputId": "d69e5757-6ae5-42ba-8678-b9aca9c306db"
      },
      "execution_count": 36,
      "outputs": [
        {
          "output_type": "stream",
          "name": "stdout",
          "text": [
            "tf.Tensor(\n",
            "[[14 28 42 56 49  7]\n",
            " [10 20 30 40 35  5]\n",
            " [ 6 12 18 24 21  3]], shape=(3, 6), dtype=int32)\n"
          ]
        }
      ]
    },
    {
      "cell_type": "code",
      "source": [
        "max_tensor = tf.math.maximum(2,4)\n",
        "\n",
        "print(max_tensor)"
      ],
      "metadata": {
        "colab": {
          "base_uri": "https://localhost:8080/"
        },
        "id": "zjqpWjXYup3x",
        "outputId": "dcc0d95c-72d4-4945-b47b-73fc25960eba"
      },
      "execution_count": 37,
      "outputs": [
        {
          "output_type": "stream",
          "name": "stdout",
          "text": [
            "tf.Tensor(4, shape=(), dtype=int32)\n"
          ]
        }
      ]
    },
    {
      "cell_type": "code",
      "source": [
        "min_tensor = tf.math.minimum(2,4)\n",
        "\n",
        "print(min_tensor)"
      ],
      "metadata": {
        "colab": {
          "base_uri": "https://localhost:8080/"
        },
        "id": "DvyQ3Ndeu-S8",
        "outputId": "9991409a-8a18-42a0-a74a-a4d1941c9ee1"
      },
      "execution_count": 38,
      "outputs": [
        {
          "output_type": "stream",
          "name": "stdout",
          "text": [
            "tf.Tensor(2, shape=(), dtype=int32)\n"
          ]
        }
      ]
    },
    {
      "cell_type": "code",
      "source": [
        "arg_tensor = tf.math.argmax(\n",
        "    [[14, 28, 42, 56, 49,  7], [140, 280, 42, 5060, 49,  7]],\n",
        "    axis=0, # 0-column , 1-row\n",
        "    output_type=tf.dtypes.int64,\n",
        "    name=None\n",
        ")\n",
        "\n",
        "print(arg_tensor)"
      ],
      "metadata": {
        "colab": {
          "base_uri": "https://localhost:8080/"
        },
        "id": "FSgcvYaGvJWF",
        "outputId": "3e50b7b4-b21c-4e1e-8723-dd581288557b"
      },
      "execution_count": 39,
      "outputs": [
        {
          "output_type": "stream",
          "name": "stdout",
          "text": [
            "tf.Tensor([1 1 0 1 0 0], shape=(6,), dtype=int64)\n"
          ]
        }
      ]
    },
    {
      "cell_type": "code",
      "source": [
        "arg_tensor = tf.math.argmax(\n",
        "    [[14, 28, 42, 56, 49,  7], [140, 280, 42, 5060, 49,  7]],\n",
        "    axis=1, # 0-column , 1-row\n",
        "    output_type=tf.dtypes.int64,\n",
        "    name=None\n",
        ")\n",
        "\n",
        "print(arg_tensor)"
      ],
      "metadata": {
        "colab": {
          "base_uri": "https://localhost:8080/"
        },
        "id": "6BImhNnmw-0d",
        "outputId": "8b04ff60-9641-491b-f12b-d3853c719f5d"
      },
      "execution_count": 40,
      "outputs": [
        {
          "output_type": "stream",
          "name": "stdout",
          "text": [
            "tf.Tensor([3 3], shape=(2,), dtype=int64)\n"
          ]
        }
      ]
    },
    {
      "cell_type": "code",
      "source": [
        "equal_tensor = tf.math.equal(\n",
        "    [2,3], [2,6], name=None\n",
        ")\n",
        "\n",
        "print(equal_tensor)"
      ],
      "metadata": {
        "colab": {
          "base_uri": "https://localhost:8080/"
        },
        "id": "DPAlf6Xe0Xyb",
        "outputId": "9924c4cf-f6ee-4e5b-abfa-d54ca085d929"
      },
      "execution_count": 41,
      "outputs": [
        {
          "output_type": "stream",
          "name": "stdout",
          "text": [
            "tf.Tensor([ True False], shape=(2,), dtype=bool)\n"
          ]
        }
      ]
    },
    {
      "cell_type": "code",
      "source": [
        "pow_tensor = tf.math.pow(\n",
        "    [2,3], [2,2], name=None\n",
        ")\n",
        "\n",
        "print(pow_tensor) # 2^2 , 3^2"
      ],
      "metadata": {
        "colab": {
          "base_uri": "https://localhost:8080/"
        },
        "id": "3-xLVXAv0i5v",
        "outputId": "f691a462-120b-49ef-fdad-258846f8d85b"
      },
      "execution_count": 42,
      "outputs": [
        {
          "output_type": "stream",
          "name": "stdout",
          "text": [
            "tf.Tensor([4 9], shape=(2,), dtype=int32)\n"
          ]
        }
      ]
    },
    {
      "cell_type": "code",
      "source": [
        "reduce_sum_tensor = tf.math.reduce_sum(\n",
        "    [[14, 28, 42, 56, 49,  7], [140, 280, 42, 5060, 49,  7]],\n",
        "    axis=None,\n",
        "    keepdims=False,\n",
        "    name=None\n",
        ")\n",
        "\n",
        "print(reduce_sum_tensor) # sum among all elements"
      ],
      "metadata": {
        "colab": {
          "base_uri": "https://localhost:8080/"
        },
        "id": "KWE4Csue1tB_",
        "outputId": "1ac92c59-78a4-4c73-f6e9-d02595f28702"
      },
      "execution_count": 43,
      "outputs": [
        {
          "output_type": "stream",
          "name": "stdout",
          "text": [
            "tf.Tensor(5774, shape=(), dtype=int32)\n"
          ]
        }
      ]
    },
    {
      "cell_type": "code",
      "source": [
        "reduce_max_tensor = tf.math.reduce_max(\n",
        "    [[14, 28, 42, 56, 49,  7], [140, 280, 42, 5060, 49,  7]],\n",
        "    axis=1,\n",
        "    keepdims=True,\n",
        "    name=None\n",
        ")\n",
        "\n",
        "print(reduce_max_tensor) # max among all elements"
      ],
      "metadata": {
        "colab": {
          "base_uri": "https://localhost:8080/"
        },
        "id": "xbxnEUDv3vQW",
        "outputId": "0eb4d396-daba-4b1b-9a4e-911e624e8f81"
      },
      "execution_count": 44,
      "outputs": [
        {
          "output_type": "stream",
          "name": "stdout",
          "text": [
            "tf.Tensor(\n",
            "[[  56]\n",
            " [5060]], shape=(2, 1), dtype=int32)\n"
          ]
        }
      ]
    },
    {
      "cell_type": "code",
      "source": [
        "sigmoid_tensor = tf.math.sigmoid(\n",
        "    [2.5,4.5,6.5,8.5,7.5,1.5], name=None  # data type should be floating point\n",
        ")\n",
        "\n",
        "print(sigmoid_tensor)"
      ],
      "metadata": {
        "colab": {
          "base_uri": "https://localhost:8080/"
        },
        "id": "8B8vImOv4BX_",
        "outputId": "e19b5e2a-bab4-41ef-eabf-02d2c5777ddc"
      },
      "execution_count": 45,
      "outputs": [
        {
          "output_type": "stream",
          "name": "stdout",
          "text": [
            "tf.Tensor([0.9241418  0.9890131  0.9984988  0.99979657 0.9994472  0.8175745 ], shape=(6,), dtype=float32)\n"
          ]
        }
      ]
    },
    {
      "cell_type": "code",
      "source": [
        "top_k_tensor = tf.math.top_k(\n",
        "    [2,3,4,5,10,6],\n",
        "    k=1,      # k - how many k elements we want\n",
        "    sorted=True,\n",
        "    name=None\n",
        ")\n",
        "\n",
        "print(top_k_tensor)"
      ],
      "metadata": {
        "colab": {
          "base_uri": "https://localhost:8080/"
        },
        "id": "RBWYmr1NYiSt",
        "outputId": "a1a06851-bc37-4731-ac3f-d8b6b2f4fbe4"
      },
      "execution_count": 46,
      "outputs": [
        {
          "output_type": "stream",
          "name": "stdout",
          "text": [
            "TopKV2(values=<tf.Tensor: shape=(1,), dtype=int32, numpy=array([10], dtype=int32)>, indices=<tf.Tensor: shape=(1,), dtype=int32, numpy=array([4], dtype=int32)>)\n"
          ]
        }
      ]
    },
    {
      "cell_type": "code",
      "source": [],
      "metadata": {
        "id": "-QIaZjWRfBG1"
      },
      "execution_count": 46,
      "outputs": []
    },
    {
      "cell_type": "markdown",
      "source": [
        "# Linear Algebra Operations"
      ],
      "metadata": {
        "id": "9-yjnTyYgEER"
      }
    },
    {
      "cell_type": "code",
      "source": [
        "a = tf.constant([[14, 28, 42]])\n",
        "b = tf.constant([[1],[2],[3]])\n",
        "\n",
        "matrics_mul_tensor = tf.linalg.matmul(\n",
        "    a,\n",
        "    b,\n",
        "    transpose_a=False,\n",
        "    transpose_b=False,\n",
        "    adjoint_a=False,\n",
        "    adjoint_b=False,\n",
        "    a_is_sparse=False,\n",
        "    b_is_sparse=False,\n",
        "    output_type=None,\n",
        "    name=None\n",
        ")\n",
        "\n",
        "print(matrics_mul_tensor)"
      ],
      "metadata": {
        "id": "v1m4-YSWgIvk",
        "colab": {
          "base_uri": "https://localhost:8080/"
        },
        "outputId": "f644637b-2b3e-41dd-de9f-619c2632d0c9"
      },
      "execution_count": 47,
      "outputs": [
        {
          "output_type": "stream",
          "name": "stdout",
          "text": [
            "tf.Tensor([[196]], shape=(1, 1), dtype=int32)\n"
          ]
        }
      ]
    },
    {
      "cell_type": "code",
      "source": [
        "a@b"
      ],
      "metadata": {
        "colab": {
          "base_uri": "https://localhost:8080/"
        },
        "id": "mTwWVS9UarzC",
        "outputId": "1618236b-e89d-4987-d721-d669334644a8"
      },
      "execution_count": 48,
      "outputs": [
        {
          "output_type": "execute_result",
          "data": {
            "text/plain": [
              "<tf.Tensor: shape=(1, 1), dtype=int32, numpy=array([[196]], dtype=int32)>"
            ]
          },
          "metadata": {},
          "execution_count": 48
        }
      ]
    },
    {
      "cell_type": "code",
      "source": [
        "transpose_tensor = tf.linalg.matrix_transpose(\n",
        "    a, name='matrix_transpose', conjugate=False\n",
        ")\n",
        "\n",
        "print(transpose_tensor)"
      ],
      "metadata": {
        "colab": {
          "base_uri": "https://localhost:8080/"
        },
        "id": "KLrW_5MobHFg",
        "outputId": "148e4866-3211-44c5-a303-34d96bd21b2b"
      },
      "execution_count": 49,
      "outputs": [
        {
          "output_type": "stream",
          "name": "stdout",
          "text": [
            "tf.Tensor(\n",
            "[[14]\n",
            " [28]\n",
            " [42]], shape=(3, 1), dtype=int32)\n"
          ]
        }
      ]
    },
    {
      "cell_type": "code",
      "source": [
        "print(tf.transpose(b))"
      ],
      "metadata": {
        "colab": {
          "base_uri": "https://localhost:8080/"
        },
        "id": "bBfGtw5Kc4-v",
        "outputId": "d132d2a1-7274-4e6e-f245-2f402c5603c3"
      },
      "execution_count": 50,
      "outputs": [
        {
          "output_type": "stream",
          "name": "stdout",
          "text": [
            "tf.Tensor([[1 2 3]], shape=(1, 3), dtype=int32)\n"
          ]
        }
      ]
    },
    {
      "cell_type": "code",
      "source": [
        "a = tf.constant([[14, 28],[2, 5]])\n",
        "b = tf.constant([[1, 0, 5],[2, 2,6]])\n",
        "\n",
        "matrics_mul_2d_tensor = tf.linalg.matmul(\n",
        "    a,\n",
        "    b\n",
        ")\n",
        "\n",
        "print(matrics_mul_2d_tensor)  # 2D matrix multiplication"
      ],
      "metadata": {
        "colab": {
          "base_uri": "https://localhost:8080/"
        },
        "id": "kee0gtEOfvHJ",
        "outputId": "fa73fa19-8edd-4d7b-b32b-86575e38ffb0"
      },
      "execution_count": 51,
      "outputs": [
        {
          "output_type": "stream",
          "name": "stdout",
          "text": [
            "tf.Tensor(\n",
            "[[ 70  56 238]\n",
            " [ 12  10  40]], shape=(2, 3), dtype=int32)\n"
          ]
        }
      ]
    },
    {
      "cell_type": "code",
      "source": [
        "t = tf.constant([[ 0,  1,  2, 3],\n",
        "                [-1,  0,  1, 2],\n",
        "                [-2, -1,  0, 1],\n",
        "                [-3, -2, -1, 0]])\n",
        "\n",
        "\n",
        "upper_t = tf.linalg.band_part(t, 0, -1) # Upper triangular part.\n",
        "lower_t = tf.linalg.band_part(t, -1, 0) # Lower triangular part.\n",
        "diagonal_t = tf.linalg.band_part(t, 0, 0) # Diagonal\n",
        "\n",
        "print(upper_t)\n",
        "print(lower_t)\n",
        "print(diagonal_t)"
      ],
      "metadata": {
        "colab": {
          "base_uri": "https://localhost:8080/"
        },
        "id": "Hep_RnCQjHRg",
        "outputId": "3a1d0285-f986-4ddd-f84e-acea4b611bb3"
      },
      "execution_count": 52,
      "outputs": [
        {
          "output_type": "stream",
          "name": "stdout",
          "text": [
            "tf.Tensor(\n",
            "[[0 1 2 3]\n",
            " [0 0 1 2]\n",
            " [0 0 0 1]\n",
            " [0 0 0 0]], shape=(4, 4), dtype=int32)\n",
            "tf.Tensor(\n",
            "[[ 0  0  0  0]\n",
            " [-1  0  0  0]\n",
            " [-2 -1  0  0]\n",
            " [-3 -2 -1  0]], shape=(4, 4), dtype=int32)\n",
            "tf.Tensor(\n",
            "[[0 0 0 0]\n",
            " [0 0 0 0]\n",
            " [0 0 0 0]\n",
            " [0 0 0 0]], shape=(4, 4), dtype=int32)\n"
          ]
        }
      ]
    },
    {
      "cell_type": "code",
      "source": [
        "upper_t = tf.linalg.band_part(t, -1, -1)\n",
        "lower_t = tf.linalg.band_part(t, 2, -1)\n",
        "diagonal_t = tf.linalg.band_part(t, 0, 0)\n",
        "\n",
        "print(upper_t)\n",
        "print(lower_t)\n",
        "print(diagonal_t)"
      ],
      "metadata": {
        "colab": {
          "base_uri": "https://localhost:8080/"
        },
        "id": "1gGgaMjMwD_Y",
        "outputId": "cba2fa62-2f22-4e61-e223-de81db760a9d"
      },
      "execution_count": 53,
      "outputs": [
        {
          "output_type": "stream",
          "name": "stdout",
          "text": [
            "tf.Tensor(\n",
            "[[ 0  1  2  3]\n",
            " [-1  0  1  2]\n",
            " [-2 -1  0  1]\n",
            " [-3 -2 -1  0]], shape=(4, 4), dtype=int32)\n",
            "tf.Tensor(\n",
            "[[ 0  1  2  3]\n",
            " [-1  0  1  2]\n",
            " [-2 -1  0  1]\n",
            " [ 0 -2 -1  0]], shape=(4, 4), dtype=int32)\n",
            "tf.Tensor(\n",
            "[[0 0 0 0]\n",
            " [0 0 0 0]\n",
            " [0 0 0 0]\n",
            " [0 0 0 0]], shape=(4, 4), dtype=int32)\n"
          ]
        }
      ]
    },
    {
      "cell_type": "code",
      "source": [
        "a = tf.constant([[14, 28,4],[2, 5,5]])\n",
        "b = tf.constant([[1, 0, 3],[2,6, 2]])\n",
        "\n",
        "cross_pro_tensor = tf.linalg.cross(\n",
        "    a, b, name=None\n",
        ")\n",
        "\n",
        "print(cross_pro_tensor)"
      ],
      "metadata": {
        "colab": {
          "base_uri": "https://localhost:8080/"
        },
        "id": "ylTrd0j1zCWW",
        "outputId": "c723a6b5-34d3-495d-81e9-97ff4c039f7b"
      },
      "execution_count": 54,
      "outputs": [
        {
          "output_type": "stream",
          "name": "stdout",
          "text": [
            "tf.Tensor(\n",
            "[[ 84 -38 -28]\n",
            " [-20   6   2]], shape=(2, 3), dtype=int32)\n"
          ]
        }
      ]
    },
    {
      "cell_type": "code",
      "source": [
        "a = tf.constant([[14, 28,4],[2, 5,5], [1, 2, 3]], dtype = tf.float32)  # data type should be floating point\n",
        "\n",
        "inverse_tensor = tf.linalg.inv(\n",
        "    a, adjoint=False, name=None\n",
        ")\n",
        "\n",
        "print(inverse_tensor)"
      ],
      "metadata": {
        "colab": {
          "base_uri": "https://localhost:8080/"
        },
        "id": "jCBNWewo0pDJ",
        "outputId": "54bcca08-b5e3-41b3-86c1-41af6ef5c78d"
      },
      "execution_count": 55,
      "outputs": [
        {
          "output_type": "stream",
          "name": "stdout",
          "text": [
            "tf.Tensor(\n",
            "[[ 0.13157895 -2.          3.1578948 ]\n",
            " [-0.02631579  1.         -1.631579  ]\n",
            " [-0.02631579  0.          0.36842108]], shape=(3, 3), dtype=float32)\n"
          ]
        }
      ]
    },
    {
      "cell_type": "code",
      "source": [
        "inverse_tensor@a  # unit matrix"
      ],
      "metadata": {
        "colab": {
          "base_uri": "https://localhost:8080/"
        },
        "id": "ktxgX7sm1Vt_",
        "outputId": "dc2d0896-0e8b-4b2b-cb52-1ef482a25309"
      },
      "execution_count": 56,
      "outputs": [
        {
          "output_type": "execute_result",
          "data": {
            "text/plain": [
              "<tf.Tensor: shape=(3, 3), dtype=float32, numpy=\n",
              "array([[ 1.0000002e+00,  4.7683716e-07,  2.3841858e-07],\n",
              "       [-1.1920929e-07,  9.9999976e-01, -3.5762787e-07],\n",
              "       [ 0.0000000e+00,  0.0000000e+00,  1.0000001e+00]], dtype=float32)>"
            ]
          },
          "metadata": {},
          "execution_count": 56
        }
      ]
    },
    {
      "cell_type": "code",
      "source": [],
      "metadata": {
        "id": "KodQ4Cgu2rFT"
      },
      "execution_count": 56,
      "outputs": []
    },
    {
      "cell_type": "markdown",
      "source": [
        "#Einsum Operator"
      ],
      "metadata": {
        "id": "38eG7AbX1j-I"
      }
    },
    {
      "cell_type": "code",
      "source": [
        "A = np.array([[1,2], [2,3], [4,7]])\n",
        "\n",
        "B = np.array([[1,2,5], [2,3,0]])\n",
        "\n",
        "C = np.array([[1,5], [0,3], [4,2]])\n",
        "\n",
        "print(np.matmul(A,B),\"\\n\")\n",
        "\n",
        "print(np.einsum(\"ij,jk -> ik\", A,B))  # matrix multiplication"
      ],
      "metadata": {
        "colab": {
          "base_uri": "https://localhost:8080/"
        },
        "id": "poepP-5G1uKy",
        "outputId": "253e7ba0-c139-4165-98f2-c03ee967d573"
      },
      "execution_count": 57,
      "outputs": [
        {
          "output_type": "stream",
          "name": "stdout",
          "text": [
            "[[ 5  8  5]\n",
            " [ 8 13 10]\n",
            " [18 29 20]] \n",
            "\n",
            "[[ 5  8  5]\n",
            " [ 8 13 10]\n",
            " [18 29 20]]\n"
          ]
        }
      ]
    },
    {
      "cell_type": "code",
      "source": [
        "print(A*C, \"\\n\")\n",
        "\n",
        "print(np.einsum(\"ij, ij -> ij\", A,C))  # Elementwise multiplication"
      ],
      "metadata": {
        "colab": {
          "base_uri": "https://localhost:8080/"
        },
        "id": "DPochslm7dwm",
        "outputId": "aeca7d1a-7ba8-48d9-d997-51e5f1eb2906"
      },
      "execution_count": 58,
      "outputs": [
        {
          "output_type": "stream",
          "name": "stdout",
          "text": [
            "[[ 1 10]\n",
            " [ 0  9]\n",
            " [16 14]] \n",
            "\n",
            "[[ 1 10]\n",
            " [ 0  9]\n",
            " [16 14]]\n"
          ]
        }
      ]
    },
    {
      "cell_type": "code",
      "source": [
        "print(A.T, \"\\n\")\n",
        "\n",
        "print(np.einsum(\"ij -> ji\", A))  # Transpose"
      ],
      "metadata": {
        "colab": {
          "base_uri": "https://localhost:8080/"
        },
        "id": "29Z82DdmK-PQ",
        "outputId": "6defd371-a7f7-46c9-9c2b-a6c03402552d"
      },
      "execution_count": 59,
      "outputs": [
        {
          "output_type": "stream",
          "name": "stdout",
          "text": [
            "[[1 2 4]\n",
            " [2 3 7]] \n",
            "\n",
            "[[1 2 4]\n",
            " [2 3 7]]\n"
          ]
        }
      ]
    },
    {
      "cell_type": "code",
      "source": [
        "A = np.array([[[1,2], [2,3], [4,7]], [[1,2], [2,3], [4,7]]])\n",
        "\n",
        "B = np.array([[[1,5,3], [2,6,1]], [[2,2,5], [0,3,0]]])\n",
        "\n",
        "print(A.shape, B.shape)\n",
        "\n",
        "print(np.matmul(A,B), \"\\n\")\n",
        "\n",
        "print(np.einsum(\"bij, bjk -> bik\", A,B))  # 3D matrix multiplication\n"
      ],
      "metadata": {
        "colab": {
          "base_uri": "https://localhost:8080/"
        },
        "id": "3meRTetpLUEy",
        "outputId": "d5df4cda-0de7-44e3-90ac-86f51ffe541c"
      },
      "execution_count": 60,
      "outputs": [
        {
          "output_type": "stream",
          "name": "stdout",
          "text": [
            "(2, 3, 2) (2, 2, 3)\n",
            "[[[ 5 17  5]\n",
            "  [ 8 28  9]\n",
            "  [18 62 19]]\n",
            "\n",
            " [[ 2  8  5]\n",
            "  [ 4 13 10]\n",
            "  [ 8 29 20]]] \n",
            "\n",
            "[[[ 5 17  5]\n",
            "  [ 8 28  9]\n",
            "  [18 62 19]]\n",
            "\n",
            " [[ 2  8  5]\n",
            "  [ 4 13 10]\n",
            "  [ 8 29 20]]]\n"
          ]
        }
      ]
    },
    {
      "cell_type": "code",
      "source": [
        "print(np.sum(A), \"\\n\")\n",
        "\n",
        "print(np.einsum(\"bij -> \", A)) # sum of all elements"
      ],
      "metadata": {
        "colab": {
          "base_uri": "https://localhost:8080/"
        },
        "id": "8GENPRoRXq77",
        "outputId": "6698348d-de58-401b-dbaf-081262432736"
      },
      "execution_count": 61,
      "outputs": [
        {
          "output_type": "stream",
          "name": "stdout",
          "text": [
            "38 \n",
            "\n",
            "38\n"
          ]
        }
      ]
    },
    {
      "cell_type": "code",
      "source": [
        "print(\"ij -> j\", A) # sum of columns"
      ],
      "metadata": {
        "colab": {
          "base_uri": "https://localhost:8080/"
        },
        "id": "mp65TCdgYgtk",
        "outputId": "60b33ef1-5260-4d2d-f3f2-d68c344aebd9"
      },
      "execution_count": 62,
      "outputs": [
        {
          "output_type": "stream",
          "name": "stdout",
          "text": [
            "ij -> j [[[1 2]\n",
            "  [2 3]\n",
            "  [4 7]]\n",
            "\n",
            " [[1 2]\n",
            "  [2 3]\n",
            "  [4 7]]]\n"
          ]
        }
      ]
    },
    {
      "cell_type": "code",
      "source": [
        "print(\"ij -> i\", A) # sum of rows"
      ],
      "metadata": {
        "colab": {
          "base_uri": "https://localhost:8080/"
        },
        "id": "9GPt8yx4amGR",
        "outputId": "425583d2-d14a-47bc-baba-a47ef1a9966f"
      },
      "execution_count": 63,
      "outputs": [
        {
          "output_type": "stream",
          "name": "stdout",
          "text": [
            "ij -> i [[[1 2]\n",
            "  [2 3]\n",
            "  [4 7]]\n",
            "\n",
            " [[1 2]\n",
            "  [2 3]\n",
            "  [4 7]]]\n"
          ]
        }
      ]
    },
    {
      "cell_type": "code",
      "source": [],
      "metadata": {
        "id": "pAQS2oRCarGd"
      },
      "execution_count": 63,
      "outputs": []
    },
    {
      "cell_type": "markdown",
      "source": [
        "# Tensorflow Functions"
      ],
      "metadata": {
        "id": "DdyyGA-f_RAZ"
      }
    },
    {
      "cell_type": "code",
      "source": [
        "A = np.array([[[1,2], [2,3], [4,7]], [[1,2], [2,3], [4,7]]])\n",
        "\n",
        "extra_dim = tf.expand_dims(\n",
        "    A, axis = 3, name=None\n",
        ")\n",
        "\n",
        "print(extra_dim.shape)  # Add dimension of a"
      ],
      "metadata": {
        "colab": {
          "base_uri": "https://localhost:8080/"
        },
        "id": "8aqbUE8M_T4L",
        "outputId": "f166c703-d035-4fff-eee0-c8869fbe0004"
      },
      "execution_count": 64,
      "outputs": [
        {
          "output_type": "stream",
          "name": "stdout",
          "text": [
            "(2, 3, 2, 1)\n"
          ]
        }
      ]
    },
    {
      "cell_type": "code",
      "source": [
        "squeezed_tensor = tf.squeeze(extra_dim, axis = 3)\n",
        "\n",
        "print(A.shape) # removes dimension with length 1"
      ],
      "metadata": {
        "colab": {
          "base_uri": "https://localhost:8080/"
        },
        "id": "nv-LvVgb_hyQ",
        "outputId": "b83fa4bc-8b10-4185-f93a-b2b41175ac1c"
      },
      "execution_count": 65,
      "outputs": [
        {
          "output_type": "stream",
          "name": "stdout",
          "text": [
            "(2, 3, 2)\n"
          ]
        }
      ]
    },
    {
      "cell_type": "code",
      "source": [
        "a = tf.constant([[14, 28,4],[2, 5,5]])\n",
        "print(a.shape)\n",
        "\n",
        "b = tf.reshape(a, [6])\n",
        "\n",
        "print(b.shape)\n",
        "\n",
        "print(b)"
      ],
      "metadata": {
        "colab": {
          "base_uri": "https://localhost:8080/"
        },
        "id": "cJdNbGu7DNdI",
        "outputId": "c5ea49ed-6797-45da-a3e1-8bc27bc56174"
      },
      "execution_count": 66,
      "outputs": [
        {
          "output_type": "stream",
          "name": "stdout",
          "text": [
            "(2, 3)\n",
            "(6,)\n",
            "tf.Tensor([14 28  4  2  5  5], shape=(6,), dtype=int32)\n"
          ]
        }
      ]
    },
    {
      "cell_type": "code",
      "source": [
        "print(tf.reshape(a, [3,2]))"
      ],
      "metadata": {
        "colab": {
          "base_uri": "https://localhost:8080/"
        },
        "id": "szmXCTrqQhOg",
        "outputId": "e9808bc7-62aa-466f-fbc6-a393e2da8e1b"
      },
      "execution_count": 67,
      "outputs": [
        {
          "output_type": "stream",
          "name": "stdout",
          "text": [
            "tf.Tensor(\n",
            "[[14 28]\n",
            " [ 4  2]\n",
            " [ 5  5]], shape=(3, 2), dtype=int32)\n"
          ]
        }
      ]
    },
    {
      "cell_type": "code",
      "source": [
        "print(tf.reshape(a, [3,-1]))  # Tensorflow automatically detects the shape as 3,2"
      ],
      "metadata": {
        "colab": {
          "base_uri": "https://localhost:8080/"
        },
        "id": "Q2XYmLwaSI3L",
        "outputId": "54786611-efd9-42b6-a25b-f8a94a953432"
      },
      "execution_count": 68,
      "outputs": [
        {
          "output_type": "stream",
          "name": "stdout",
          "text": [
            "tf.Tensor(\n",
            "[[14 28]\n",
            " [ 4  2]\n",
            " [ 5  5]], shape=(3, 2), dtype=int32)\n"
          ]
        }
      ]
    },
    {
      "cell_type": "code",
      "source": [
        "t1 = tf.constant([[14, 28, 4, 9],[2, 5, 5, 2]])\n",
        "\n",
        "t2 = tf.constant([[34, 10, 3, 8],[1, -1, 0, 2]])\n",
        "\n",
        "print(t1.shape)\n",
        "\n",
        "print(t2.shape)\n",
        "\n",
        "tf.concat([t1, t2], axis = 0)  # concat across columns"
      ],
      "metadata": {
        "colab": {
          "base_uri": "https://localhost:8080/"
        },
        "id": "R2sro1ArSQV6",
        "outputId": "91d25472-9e7b-4eb9-df36-7ee8e7776f12"
      },
      "execution_count": 69,
      "outputs": [
        {
          "output_type": "stream",
          "name": "stdout",
          "text": [
            "(2, 4)\n",
            "(2, 4)\n"
          ]
        },
        {
          "output_type": "execute_result",
          "data": {
            "text/plain": [
              "<tf.Tensor: shape=(4, 4), dtype=int32, numpy=\n",
              "array([[14, 28,  4,  9],\n",
              "       [ 2,  5,  5,  2],\n",
              "       [34, 10,  3,  8],\n",
              "       [ 1, -1,  0,  2]], dtype=int32)>"
            ]
          },
          "metadata": {},
          "execution_count": 69
        }
      ]
    },
    {
      "cell_type": "code",
      "source": [
        "tf.concat([t1, t2], axis = 1)  # concat across rows"
      ],
      "metadata": {
        "colab": {
          "base_uri": "https://localhost:8080/"
        },
        "id": "Ehg9gDbUULQl",
        "outputId": "1372cb54-f285-452e-cdd1-9ea3e424daf3"
      },
      "execution_count": 70,
      "outputs": [
        {
          "output_type": "execute_result",
          "data": {
            "text/plain": [
              "<tf.Tensor: shape=(2, 8), dtype=int32, numpy=\n",
              "array([[14, 28,  4,  9, 34, 10,  3,  8],\n",
              "       [ 2,  5,  5,  2,  1, -1,  0,  2]], dtype=int32)>"
            ]
          },
          "metadata": {},
          "execution_count": 70
        }
      ]
    },
    {
      "cell_type": "code",
      "source": [
        "tf.stack([t1,t2], axis=0)"
      ],
      "metadata": {
        "colab": {
          "base_uri": "https://localhost:8080/"
        },
        "id": "9yUqJFVwU1iY",
        "outputId": "a091392d-9616-4ac5-9f40-9b8188a208f1"
      },
      "execution_count": 71,
      "outputs": [
        {
          "output_type": "execute_result",
          "data": {
            "text/plain": [
              "<tf.Tensor: shape=(2, 2, 4), dtype=int32, numpy=\n",
              "array([[[14, 28,  4,  9],\n",
              "        [ 2,  5,  5,  2]],\n",
              "\n",
              "       [[34, 10,  3,  8],\n",
              "        [ 1, -1,  0,  2]]], dtype=int32)>"
            ]
          },
          "metadata": {},
          "execution_count": 71
        }
      ]
    },
    {
      "cell_type": "code",
      "source": [],
      "metadata": {
        "id": "4MYbmH5ebKj0"
      },
      "execution_count": 71,
      "outputs": []
    },
    {
      "cell_type": "code",
      "source": [
        "tf.stack([t1,t2,t1], axis=0)"
      ],
      "metadata": {
        "colab": {
          "base_uri": "https://localhost:8080/"
        },
        "id": "SNZqEj8CWxUE",
        "outputId": "47b63703-37b9-4d50-ff37-e524865629da"
      },
      "execution_count": 72,
      "outputs": [
        {
          "output_type": "execute_result",
          "data": {
            "text/plain": [
              "<tf.Tensor: shape=(3, 2, 4), dtype=int32, numpy=\n",
              "array([[[14, 28,  4,  9],\n",
              "        [ 2,  5,  5,  2]],\n",
              "\n",
              "       [[34, 10,  3,  8],\n",
              "        [ 1, -1,  0,  2]],\n",
              "\n",
              "       [[14, 28,  4,  9],\n",
              "        [ 2,  5,  5,  2]]], dtype=int32)>"
            ]
          },
          "metadata": {},
          "execution_count": 72
        }
      ]
    },
    {
      "cell_type": "code",
      "source": [
        "tf.stack([t1,t2,t1], axis=1)"
      ],
      "metadata": {
        "colab": {
          "base_uri": "https://localhost:8080/"
        },
        "id": "EhL0GXzhYQTs",
        "outputId": "44b2b840-a64a-4f76-80ed-b6d82115ffbd"
      },
      "execution_count": 73,
      "outputs": [
        {
          "output_type": "execute_result",
          "data": {
            "text/plain": [
              "<tf.Tensor: shape=(2, 3, 4), dtype=int32, numpy=\n",
              "array([[[14, 28,  4,  9],\n",
              "        [34, 10,  3,  8],\n",
              "        [14, 28,  4,  9]],\n",
              "\n",
              "       [[ 2,  5,  5,  2],\n",
              "        [ 1, -1,  0,  2],\n",
              "        [ 2,  5,  5,  2]]], dtype=int32)>"
            ]
          },
          "metadata": {},
          "execution_count": 73
        }
      ]
    },
    {
      "cell_type": "code",
      "source": [
        "tf.stack([t1,t2,t1], axis=2)"
      ],
      "metadata": {
        "colab": {
          "base_uri": "https://localhost:8080/"
        },
        "id": "8RWAjiqzYSqS",
        "outputId": "c84a60a6-990f-461e-b9de-8f5f4f054d64"
      },
      "execution_count": 74,
      "outputs": [
        {
          "output_type": "execute_result",
          "data": {
            "text/plain": [
              "<tf.Tensor: shape=(2, 4, 3), dtype=int32, numpy=\n",
              "array([[[14, 34, 14],\n",
              "        [28, 10, 28],\n",
              "        [ 4,  3,  4],\n",
              "        [ 9,  8,  9]],\n",
              "\n",
              "       [[ 2,  1,  2],\n",
              "        [ 5, -1,  5],\n",
              "        [ 5,  0,  5],\n",
              "        [ 2,  2,  2]]], dtype=int32)>"
            ]
          },
          "metadata": {},
          "execution_count": 74
        }
      ]
    },
    {
      "cell_type": "code",
      "source": [
        "t = tf.constant([[1, 2, 3], [4, 5, 6]])\n",
        "paddings = tf.constant([[1, 1,], [2, 2]])\n",
        "# 'constant_values' is 0.\n",
        "# rank of 't' is 2.\n",
        "tf.pad(t, paddings, \"CONSTANT\")"
      ],
      "metadata": {
        "id": "329lkaYPZRIX",
        "colab": {
          "base_uri": "https://localhost:8080/"
        },
        "outputId": "62a353fa-6ca2-48d7-f886-7a09b2c59ad6"
      },
      "execution_count": 75,
      "outputs": [
        {
          "output_type": "execute_result",
          "data": {
            "text/plain": [
              "<tf.Tensor: shape=(4, 7), dtype=int32, numpy=\n",
              "array([[0, 0, 0, 0, 0, 0, 0],\n",
              "       [0, 0, 1, 2, 3, 0, 0],\n",
              "       [0, 0, 4, 5, 6, 0, 0],\n",
              "       [0, 0, 0, 0, 0, 0, 0]], dtype=int32)>"
            ]
          },
          "metadata": {},
          "execution_count": 75
        }
      ]
    },
    {
      "cell_type": "code",
      "source": [
        "tf.pad(t, paddings, \"CONSTANT\", constant_values = 3)"
      ],
      "metadata": {
        "colab": {
          "base_uri": "https://localhost:8080/"
        },
        "id": "ZriY4_drFbC3",
        "outputId": "9d2760db-bc23-4931-d775-ffd32b737900"
      },
      "execution_count": 76,
      "outputs": [
        {
          "output_type": "execute_result",
          "data": {
            "text/plain": [
              "<tf.Tensor: shape=(4, 7), dtype=int32, numpy=\n",
              "array([[3, 3, 3, 3, 3, 3, 3],\n",
              "       [3, 3, 1, 2, 3, 3, 3],\n",
              "       [3, 3, 4, 5, 6, 3, 3],\n",
              "       [3, 3, 3, 3, 3, 3, 3]], dtype=int32)>"
            ]
          },
          "metadata": {},
          "execution_count": 76
        }
      ]
    },
    {
      "cell_type": "code",
      "source": [
        "params = tf.constant(['p0', 'p1', 'p2', 'p3', 'p4', 'p5'])\n",
        "\n",
        "params[1:3+1]"
      ],
      "metadata": {
        "colab": {
          "base_uri": "https://localhost:8080/"
        },
        "id": "DlFQ658jFoJb",
        "outputId": "2022a0c3-bcbb-4db8-d3e6-028257168dfa"
      },
      "execution_count": 77,
      "outputs": [
        {
          "output_type": "execute_result",
          "data": {
            "text/plain": [
              "<tf.Tensor: shape=(3,), dtype=string, numpy=array([b'p1', b'p2', b'p3'], dtype=object)>"
            ]
          },
          "metadata": {},
          "execution_count": 77
        }
      ]
    },
    {
      "cell_type": "code",
      "source": [
        "tf.gather(params, [1,2,3])"
      ],
      "metadata": {
        "colab": {
          "base_uri": "https://localhost:8080/"
        },
        "id": "cICTEeN0Iky5",
        "outputId": "ca1e3800-600f-486e-fd74-a6ec514206fb"
      },
      "execution_count": 78,
      "outputs": [
        {
          "output_type": "execute_result",
          "data": {
            "text/plain": [
              "<tf.Tensor: shape=(3,), dtype=string, numpy=array([b'p1', b'p2', b'p3'], dtype=object)>"
            ]
          },
          "metadata": {},
          "execution_count": 78
        }
      ]
    },
    {
      "cell_type": "code",
      "source": [
        "tf.gather(params, [0,5,3])"
      ],
      "metadata": {
        "colab": {
          "base_uri": "https://localhost:8080/"
        },
        "id": "X-V9YDUyJGYy",
        "outputId": "699f4ce5-0a33-4124-b4ab-e71e8aeefc12"
      },
      "execution_count": 79,
      "outputs": [
        {
          "output_type": "execute_result",
          "data": {
            "text/plain": [
              "<tf.Tensor: shape=(3,), dtype=string, numpy=array([b'p0', b'p5', b'p3'], dtype=object)>"
            ]
          },
          "metadata": {},
          "execution_count": 79
        }
      ]
    },
    {
      "cell_type": "code",
      "source": [
        "tf.gather(params, [0,5,3], axis = 0)"
      ],
      "metadata": {
        "colab": {
          "base_uri": "https://localhost:8080/"
        },
        "id": "PBupUdE_KXR3",
        "outputId": "77cf3c9b-ce9a-4698-9308-08633befae39"
      },
      "execution_count": 80,
      "outputs": [
        {
          "output_type": "execute_result",
          "data": {
            "text/plain": [
              "<tf.Tensor: shape=(3,), dtype=string, numpy=array([b'p0', b'p5', b'p3'], dtype=object)>"
            ]
          },
          "metadata": {},
          "execution_count": 80
        }
      ]
    },
    {
      "cell_type": "code",
      "source": [
        "indices = [\n",
        "            [[1,0], [0,1]],\n",
        "\n",
        "            [[0,0], [1,1]]\n",
        "          ]\n",
        "\n",
        "params = [\n",
        "            [['a0','b0'], ['c0','d0']],\n",
        "\n",
        "            [['a1','b1'], ['c1','d1']]\n",
        "          ]\n",
        "\n",
        "tf.gather_nd(params, indices)"
      ],
      "metadata": {
        "colab": {
          "base_uri": "https://localhost:8080/"
        },
        "id": "rXbG5oDKLZB6",
        "outputId": "aa2ed75d-3bf1-47ff-e318-7bb33444bc22"
      },
      "execution_count": 81,
      "outputs": [
        {
          "output_type": "execute_result",
          "data": {
            "text/plain": [
              "<tf.Tensor: shape=(2, 2, 2), dtype=string, numpy=\n",
              "array([[[b'a1', b'b1'],\n",
              "        [b'c0', b'd0']],\n",
              "\n",
              "       [[b'a0', b'b0'],\n",
              "        [b'c1', b'd1']]], dtype=object)>"
            ]
          },
          "metadata": {},
          "execution_count": 81
        }
      ]
    },
    {
      "cell_type": "code",
      "source": [
        "tf.gather_nd(params, indices, batch_dims = 1)"
      ],
      "metadata": {
        "colab": {
          "base_uri": "https://localhost:8080/"
        },
        "id": "LDLs6IlvLfRu",
        "outputId": "e6a9999b-30de-49de-a1e2-c0eb85d08aa9"
      },
      "execution_count": 82,
      "outputs": [
        {
          "output_type": "execute_result",
          "data": {
            "text/plain": [
              "<tf.Tensor: shape=(2, 2), dtype=string, numpy=\n",
              "array([[b'c0', b'b0'],\n",
              "       [b'a1', b'd1']], dtype=object)>"
            ]
          },
          "metadata": {},
          "execution_count": 82
        }
      ]
    },
    {
      "cell_type": "code",
      "source": [],
      "metadata": {
        "id": "hAjgls7yzCJl"
      },
      "execution_count": 82,
      "outputs": []
    },
    {
      "cell_type": "markdown",
      "source": [
        "# Ragged Tensors"
      ],
      "metadata": {
        "id": "5SUlZINj2mXC"
      }
    },
    {
      "cell_type": "code",
      "source": [
        "tensor_two_d = [[[1,2],\n",
        "                [2,],\n",
        "                 [4,7]],\n",
        "\n",
        "                [[1,2],\n",
        "                 [2,3],\n",
        "                  [4,]]]\n",
        "\n",
        "tensor_ragged = tf.ragged.constant(tensor_two_d)\n",
        "tensor_ragged.shape"
      ],
      "metadata": {
        "colab": {
          "base_uri": "https://localhost:8080/"
        },
        "id": "SwOSwkjX2oPH",
        "outputId": "5d2a31c3-a162-4b9c-daec-c9c8320d6ec3"
      },
      "execution_count": 83,
      "outputs": [
        {
          "output_type": "execute_result",
          "data": {
            "text/plain": [
              "TensorShape([2, None, None])"
            ]
          },
          "metadata": {},
          "execution_count": 83
        }
      ]
    },
    {
      "cell_type": "code",
      "source": [
        "# 2-D example\n",
        "tensor = [[1, 2], [3, 4], [5, 6]]\n",
        "mask = np.array([True, False, True])\n",
        "tf.boolean_mask(tensor, mask)  # [[1, 2], [5, 6]]"
      ],
      "metadata": {
        "colab": {
          "base_uri": "https://localhost:8080/"
        },
        "id": "a-IWusMr34ha",
        "outputId": "431b644e-012d-42f4-99d8-9488e90f7673"
      },
      "execution_count": 84,
      "outputs": [
        {
          "output_type": "execute_result",
          "data": {
            "text/plain": [
              "<tf.Tensor: shape=(2, 2), dtype=int32, numpy=\n",
              "array([[1, 2],\n",
              "       [5, 6]], dtype=int32)>"
            ]
          },
          "metadata": {},
          "execution_count": 84
        }
      ]
    },
    {
      "cell_type": "code",
      "source": [
        "tensor_sparse = tf.sparse.SparseTensor(\n",
        "    [[1,1], [3,4]], values = [11,56], dense_shape = [5,6]\n",
        ")\n",
        "\n",
        "print(tensor_sparse)"
      ],
      "metadata": {
        "colab": {
          "base_uri": "https://localhost:8080/"
        },
        "id": "Mck0mUWR69tt",
        "outputId": "ca7aaa91-3381-4dad-88ee-b563d043d6d2"
      },
      "execution_count": 85,
      "outputs": [
        {
          "output_type": "stream",
          "name": "stdout",
          "text": [
            "SparseTensor(indices=tf.Tensor(\n",
            "[[1 1]\n",
            " [3 4]], shape=(2, 2), dtype=int64), values=tf.Tensor([11 56], shape=(2,), dtype=int32), dense_shape=tf.Tensor([5 6], shape=(2,), dtype=int64))\n"
          ]
        }
      ]
    },
    {
      "cell_type": "code",
      "source": [
        "tf.sparse.to_dense(tensor_sparse)  # sparse tensor to a normal tensor"
      ],
      "metadata": {
        "colab": {
          "base_uri": "https://localhost:8080/"
        },
        "id": "q4o5NEEm8YHC",
        "outputId": "8e4876b2-5574-44d7-a0b6-2e138f15afdd"
      },
      "execution_count": 86,
      "outputs": [
        {
          "output_type": "execute_result",
          "data": {
            "text/plain": [
              "<tf.Tensor: shape=(5, 6), dtype=int32, numpy=\n",
              "array([[ 0,  0,  0,  0,  0,  0],\n",
              "       [ 0, 11,  0,  0,  0,  0],\n",
              "       [ 0,  0,  0,  0,  0,  0],\n",
              "       [ 0,  0,  0,  0, 56,  0],\n",
              "       [ 0,  0,  0,  0,  0,  0]], dtype=int32)>"
            ]
          },
          "metadata": {},
          "execution_count": 86
        }
      ]
    },
    {
      "cell_type": "code",
      "source": [
        "tensor_string = tf.constant([\"Hi\", \"I am\", \"a string\"])\n",
        "\n",
        "print(tensor_string)"
      ],
      "metadata": {
        "id": "t7E3e4SN9IXc",
        "colab": {
          "base_uri": "https://localhost:8080/"
        },
        "outputId": "b4dc9678-2342-4038-8992-5bcdfdcabe56"
      },
      "execution_count": 87,
      "outputs": [
        {
          "output_type": "stream",
          "name": "stdout",
          "text": [
            "tf.Tensor([b'Hi' b'I am' b'a string'], shape=(3,), dtype=string)\n"
          ]
        }
      ]
    },
    {
      "cell_type": "code",
      "source": [
        "tf.strings.join(\n",
        "    tensor_string, separator=' ', name=None\n",
        ")"
      ],
      "metadata": {
        "colab": {
          "base_uri": "https://localhost:8080/"
        },
        "id": "FnA8oW5mVp5l",
        "outputId": "56a6ed92-6f44-4a52-a6b3-8ed434934561"
      },
      "execution_count": 88,
      "outputs": [
        {
          "output_type": "execute_result",
          "data": {
            "text/plain": [
              "<tf.Tensor: shape=(), dtype=string, numpy=b'Hi I am a string'>"
            ]
          },
          "metadata": {},
          "execution_count": 88
        }
      ]
    },
    {
      "cell_type": "code",
      "source": [
        "tf.strings.join(\n",
        "    tensor_string, separator=' + ', name=None\n",
        ")"
      ],
      "metadata": {
        "colab": {
          "base_uri": "https://localhost:8080/"
        },
        "id": "IoATcS88Xj20",
        "outputId": "897bcc0c-8bd7-4e62-89cb-24486fa281e5"
      },
      "execution_count": 89,
      "outputs": [
        {
          "output_type": "execute_result",
          "data": {
            "text/plain": [
              "<tf.Tensor: shape=(), dtype=string, numpy=b'Hi + I am + a string'>"
            ]
          },
          "metadata": {},
          "execution_count": 89
        }
      ]
    },
    {
      "cell_type": "code",
      "source": [],
      "metadata": {
        "id": "sFujSdrPXsOG"
      },
      "execution_count": null,
      "outputs": []
    },
    {
      "cell_type": "markdown",
      "source": [
        "# Variables"
      ],
      "metadata": {
        "id": "9lXMODCraA5K"
      }
    },
    {
      "cell_type": "code",
      "source": [
        "x_var = tf.Variable(x, name = 'var1')\n",
        "\n",
        "print(x_var)"
      ],
      "metadata": {
        "colab": {
          "base_uri": "https://localhost:8080/"
        },
        "id": "b7JEycIiaCmV",
        "outputId": "b985311e-86fc-4aa1-d6f4-bc4773b51759"
      },
      "execution_count": 90,
      "outputs": [
        {
          "output_type": "stream",
          "name": "stdout",
          "text": [
            "<tf.Variable 'var1:0' shape=(6,) dtype=int32, numpy=array([2, 4, 6, 8, 7, 1], dtype=int32)>\n"
          ]
        }
      ]
    },
    {
      "cell_type": "code",
      "source": [
        "x_var.assign_add([1,6,7,8,0,1])"
      ],
      "metadata": {
        "colab": {
          "base_uri": "https://localhost:8080/"
        },
        "id": "3ljJuAv1aKVv",
        "outputId": "9ace9609-841a-4cf6-811f-417e1d532014"
      },
      "execution_count": 97,
      "outputs": [
        {
          "output_type": "execute_result",
          "data": {
            "text/plain": [
              "<tf.Variable 'UnreadVariable' shape=(6,) dtype=int32, numpy=array([ 3, 10, 13, 16,  7,  2], dtype=int32)>"
            ]
          },
          "metadata": {},
          "execution_count": 97
        }
      ]
    },
    {
      "cell_type": "code",
      "source": [
        "with tf.device('GPU:0'):\n",
        "  x_var = tf.Variable(0.2)\n",
        "  x_tensor = tf.constant(0.2)\n",
        "\n",
        "  print(x_var.device)\n",
        "  print(x_tensor.device)"
      ],
      "metadata": {
        "colab": {
          "base_uri": "https://localhost:8080/"
        },
        "id": "URz12ujCbl2b",
        "outputId": "7eedd572-981f-4f03-b0f6-84068a7650e6"
      },
      "execution_count": 98,
      "outputs": [
        {
          "output_type": "stream",
          "name": "stdout",
          "text": [
            "/job:localhost/replica:0/task:0/device:CPU:0\n",
            "/job:localhost/replica:0/task:0/device:CPU:0\n"
          ]
        }
      ]
    },
    {
      "cell_type": "code",
      "source": [],
      "metadata": {
        "id": "eS0uLh5YeEYn"
      },
      "execution_count": null,
      "outputs": []
    }
  ]
}